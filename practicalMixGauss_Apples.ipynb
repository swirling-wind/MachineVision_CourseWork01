{
 "cells": [
  {
   "cell_type": "code",
   "execution_count": null,
   "metadata": {},
   "outputs": [],
   "source": [
    "import glob\n",
    "import numpy as np\n",
    "import matplotlib.pyplot as plt\n",
    "from scipy.stats import multivariate_normal"
   ]
  },
  {
   "cell_type": "markdown",
   "metadata": {},
   "source": [
    "### A) Download and unzip the file apples.zip."
   ]
  },
  {
   "cell_type": "code",
   "execution_count": null,
   "metadata": {},
   "outputs": [],
   "source": [
    "image_list = []\n",
    "raw_masks = []\n",
    "\n",
    "# load images\n",
    "image_files = glob.glob(\"apples/*.jpg\")\n",
    "image_files.sort()\n",
    "for cur_img in image_files:\n",
    "    image = plt.imread(cur_img)\n",
    "    image_list.append(image)\n",
    "# load masks\n",
    "mask_files = glob.glob(\"apples/*.png\")\n",
    "mask_files.sort()\n",
    "for cur_mask in mask_files:\n",
    "    raw = plt.imread(cur_mask)\n",
    "    if raw.shape[-1] == 4:\n",
    "        raw = np.delete(raw, -1, axis=-1)\n",
    "    raw_masks.append(raw)\n",
    "\n",
    "def mask_reshape(data):\n",
    "    return np.float32(data.reshape(data.shape[0] * data.shape[1], data.shape[2]))\n",
    "\n",
    "num_images = len(image_list)\n",
    "total_apple_pixels = np.empty((3, 0))\n",
    "non_apple_pixels = np.empty((3, 0))\n",
    "for i in range(num_images):\n",
    "    reshaped_image = mask_reshape(image_list[i])\n",
    "    reshaped_mask = np.delete(mask_reshape(raw_masks[i]), [1,2], axis=1).squeeze().astype(int)\n",
    "    cur_apple_pixels = reshaped_image[reshaped_mask > 0].T / 255.0\n",
    "    cur_non_apple_pixels = reshaped_image[reshaped_mask == 0].T / 255.0\n",
    "    total_apple_pixels = np.concatenate((total_apple_pixels, cur_apple_pixels), axis=1)\n",
    "    non_apple_pixels = np.concatenate((non_apple_pixels, cur_non_apple_pixels), axis=1)\n",
    "\n",
    "print(total_apple_pixels.shape)\n",
    "print(non_apple_pixels.shape)"
   ]
  },
  {
   "cell_type": "code",
   "execution_count": null,
   "metadata": {},
   "outputs": [],
   "source": [
    "_, ((ax11, ax12), (ax21, ax22), (ax31, ax32)) = plt.subplots(3, 2)\n",
    "ax11.imshow(image_list[0])\n",
    "ax11.set_title('image[0]')\n",
    "ax12.imshow(raw_masks[0])\n",
    "ax12.set_title('raw_masks[0]')\n",
    "ax21.imshow(image_list[1])\n",
    "ax21.set_title('image[1]')\n",
    "ax22.imshow(raw_masks[1])\n",
    "ax22.set_title('raw_masks[1]')\n",
    "ax31.imshow(image_list[2])\n",
    "ax31.set_title('image[2]')\n",
    "ax32.imshow(raw_masks[2])\n",
    "ax32.set_title('raw_masks[2]')"
   ]
  },
  {
   "cell_type": "markdown",
   "metadata": {},
   "source": [
    "### B) Use mixtures of Gaussians to distinguish apple vs. non-apple pixels. Use red, green, and blue as your dimensions for now. Make any other decisions you need to, and document them in your .ipynb notebook"
   ]
  },
  {
   "cell_type": "code",
   "execution_count": null,
   "metadata": {},
   "outputs": [],
   "source": [
    "def multivariate_normal_pdf(x, mu, cov):\n",
    "    if np.linalg.det(cov) == 0:\n",
    "        cov += 1e-6 * np.identity(cov.shape[0])\n",
    "    normal_denominator = 1.0 / np.sqrt(np.power((2 * np.pi), x.shape[1]) * np.linalg.det(cov))\n",
    "    x_mu = np.matrix(x - mu) # (424647, 3)\n",
    "    x_mu_dot_inv_cov = x_mu @ np.linalg.inv(cov) # (424647, 3)\n",
    "    exponent = -0.5 * np.sum(np.multiply(x_mu, x_mu_dot_inv_cov), axis=1)\n",
    "    return (normal_denominator * np.exp(exponent)).reshape(-1)\n",
    "\n",
    "def getMixGaussLogLike(data, mixGaussEst): \n",
    "    \"\"\"\n",
    "    Calculate the log likelihood for the whole dataset under a mixture of Gaussians model.\n",
    "\n",
    "    Keyword arguments:\n",
    "    data -- d by n matrix containing data points.\n",
    "    mixGaussEst -- dict containing the mixture of gaussians parameters.\n",
    "\n",
    "    Returns: \n",
    "    logLike -- scalar containing the log likelihood.\n",
    "    \"\"\"\n",
    "    \n",
    "    data = np.atleast_2d(data)\n",
    "    # find total number of data items\n",
    "    nDims, nData = data.shape\n",
    "    \n",
    "    # initialize log likelihoods                                                                       \n",
    "    logLike = 0\n",
    "                   \n",
    "    # calculate likelihoods for all data points at once\n",
    "    likelihoods = np.zeros((mixGaussEst['k'], nData))\n",
    "    for current_gauss in range(mixGaussEst['k']):\n",
    "        likelihoods[current_gauss, :] = mixGaussEst['weight'][current_gauss] * multivariate_normal_pdf(data.T, mixGaussEst['mean'][:, current_gauss], mixGaussEst['cov'][:, :, current_gauss])\n",
    "    \n",
    "    logLike = np.sum(np.log(np.sum(likelihoods, axis=0)))\n",
    "    \n",
    "    return logLike"
   ]
  },
  {
   "cell_type": "code",
   "execution_count": null,
   "metadata": {},
   "outputs": [],
   "source": [
    "def fitMixGauss(data, k):\n",
    "    nDims, nData = data.shape\n",
    "    postHidden = np.zeros(shape=(k, nData))\n",
    "\n",
    "    mixGaussEst = dict()\n",
    "    mixGaussEst['d'] = nDims\n",
    "    mixGaussEst['k'] = k\n",
    "    mixGaussEst['weight'] = (1 / k) * np.ones(shape=(k))\n",
    "    mixGaussEst['mean'] = 2 * np.random.randn(nDims, k)\n",
    "    mixGaussEst['cov'] = np.zeros(shape=(nDims, nDims, k))\n",
    "    for cGauss in range(k):\n",
    "        mixGaussEst['cov'][:, :, cGauss] = 2.5 + 1.5 * np.random.uniform() * np.eye(nDims)\n",
    "        \n",
    "    logLike = getMixGaussLogLike(data, mixGaussEst)\n",
    "    print('Log Likelihood Iter 0 : {:4.3f}\\n'.format(logLike))\n",
    "    nIter = 30\n",
    "    for cIter in range(nIter):\n",
    "        # ===================== =====================\n",
    "        # Expectation step\n",
    "        for current_gauss in range(k):\n",
    "            postHidden[current_gauss, :] = mixGaussEst['weight'][current_gauss] * multivariate_normal_pdf(data.T, mixGaussEst['mean'][:, current_gauss], mixGaussEst['cov'][:, :, current_gauss])\n",
    "        postHidden = postHidden / np.sum(postHidden, axis=0)\n",
    "\n",
    "        # ===================== =====================\n",
    "        # Maximization Step\n",
    "        for cGauss in range(k):\n",
    "            mixGaussEst['weight'][cGauss] = np.sum(postHidden[cGauss,:]) / np.sum(postHidden)\n",
    "            mixGaussEst['mean'][:,cGauss] = np.sum(postHidden[cGauss,:] * data, axis=1) / np.sum(postHidden[cGauss,:])\n",
    "            \n",
    "            data_diff = data - mixGaussEst['mean'][:, cGauss][:, np.newaxis]\n",
    "            mixGaussEst['cov'][:, :, cGauss] = np.dot(data_diff * postHidden[cGauss, :], data_diff.T) / np.sum(postHidden[cGauss, :])\n",
    "\n",
    "        logLike = getMixGaussLogLike(data, mixGaussEst)\n",
    "        print('Log Likelihood After Iter {} : {:4.3f}\\n'.format(cIter, logLike))\n",
    "\n",
    "\n",
    "    return mixGaussEst"
   ]
  },
  {
   "cell_type": "code",
   "execution_count": null,
   "metadata": {},
   "outputs": [],
   "source": [
    "# Train\n",
    "nGaussEst = 6\n",
    "apple_mog_estimated = fitMixGauss(total_apple_pixels, nGaussEst)\n",
    "non_apple_mog_estimated = fitMixGauss(non_apple_pixels, nGaussEst)"
   ]
  },
  {
   "cell_type": "code",
   "execution_count": null,
   "metadata": {},
   "outputs": [],
   "source": [
    "# Mean Color of Apple Gaussian Mixture Model\n",
    "rgb_color_mog_mean = apple_mog_estimated['mean'].T\n",
    "print(rgb_color_mog_mean)\n",
    "\n",
    "fig, ax = plt.subplots()\n",
    "for i in range(len(rgb_color_mog_mean)):\n",
    "    ax.axhline(i, color=rgb_color_mog_mean[i], linewidth=10)\n",
    "\n",
    "ax.set_yticks(range(len(rgb_color_mog_mean)))\n",
    "ax.set_yticklabels([f\"Color {i+1}\" for i in range(len(rgb_color_mog_mean))])\n",
    "ax.set_xticks([])\n",
    "ax.set_title(\"Mean Color of Apple Gaussian Mixture Model\")\n",
    "plt.show()"
   ]
  },
  {
   "cell_type": "code",
   "execution_count": null,
   "metadata": {},
   "outputs": [],
   "source": [
    "# Mean Color of Non-Apple Gaussian Mixture Model\n",
    "rgb_color_mog_mean = non_apple_mog_estimated['mean'].T\n",
    "print(rgb_color_mog_mean)\n",
    "\n",
    "fig, ax = plt.subplots()\n",
    "for i in range(len(rgb_color_mog_mean)):\n",
    "    ax.axhline(i, color=rgb_color_mog_mean[i], linewidth=10)\n",
    "\n",
    "ax.set_yticks(range(len(rgb_color_mog_mean)))\n",
    "ax.set_yticklabels([f\"Color {i+1}\" for i in range(len(rgb_color_mog_mean))])\n",
    "ax.set_xticks([])\n",
    "ax.set_title(\"Mean Color of Non-Apple Gaussian Mixture Model\")\n",
    "plt.show()"
   ]
  },
  {
   "cell_type": "markdown",
   "metadata": {},
   "source": [
    "### C) Download the file testApples.zip. Generate figures for your notebook, showing each pixel’s posterior probability of being “apple.” Comment on the outcomes"
   ]
  },
  {
   "cell_type": "code",
   "execution_count": null,
   "metadata": {},
   "outputs": [],
   "source": [
    "test_images_list = []\n",
    "\n",
    "# load test images\n",
    "test_image_files = glob.glob(\"testApples/*.jpg\")\n",
    "test_image_files.sort()\n",
    "for cur_img in test_image_files:\n",
    "    image = plt.imread(cur_img)\n",
    "    test_images_list.append(image)\n",
    "\n",
    "# show test images\n",
    "_, (ax1, ax2, ax3) = plt.subplots(1, 3)\n",
    "ax1.imshow(test_images_list[0])\n",
    "ax1.set_title('test_images_list[0]')\n",
    "ax2.imshow(test_images_list[1])\n",
    "ax2.set_title('test_images_list[1]')\n",
    "ax3.imshow(test_images_list[2])\n",
    "ax3.set_title('test_images_list[2]')"
   ]
  },
  {
   "cell_type": "code",
   "execution_count": null,
   "metadata": {},
   "outputs": [],
   "source": [
    "prior_apple = 0.4\n",
    "prior_non_apple = 0.6\n",
    "threshold = 0.5\n",
    "\n",
    "posteriro_apple_list = []\n",
    "for index, cur_img in enumerate(test_images_list):\n",
    "    print(f\"Processing image {index}\")\n",
    "    # TODO\n",
    "    break"
   ]
  },
  {
   "cell_type": "code",
   "execution_count": null,
   "metadata": {},
   "outputs": [],
   "source": [
    "plt.imshow(posteriro_apple_list[0])"
   ]
  },
  {
   "cell_type": "markdown",
   "metadata": {},
   "source": [
    "### D) For the test image with a ground-truth mask, quantify and report your result.\n",
    "Hint:\n",
    "consider applying a range of thresholds to the posterior to produce sets of {True Positives\n",
    "(TP), True Negatives (TN), False Positives (FP), and False Negatives (FN)} and using an\n",
    "ROC curve. Learn about ROC on Wikipedia or see Peter Flach’s chapter on the subject"
   ]
  },
  {
   "cell_type": "code",
   "execution_count": null,
   "metadata": {},
   "outputs": [],
   "source": [
    "# Read the image Bbr98ad4z0A-ctgXo3gdwu8-original.jpg from testApples folder\n",
    "test_image_with_mask = plt.imread('testApples/Bbr98ad4z0A-ctgXo3gdwu8-original.jpg')\n",
    "test_gt_mask = plt.imread('testApples/Bbr98ad4z0A-ctgXo3gdwu8-original.png')\n",
    "_, (ax1, ax2) = plt.subplots(1, 2)\n",
    "ax1.imshow(test_image_with_mask)\n",
    "ax1.set_title('test_image_with_mask')\n",
    "ax2.imshow(test_gt_mask)\n",
    "ax2.set_title('test_gt_mask')\n"
   ]
  },
  {
   "cell_type": "code",
   "execution_count": null,
   "metadata": {},
   "outputs": [],
   "source": []
  },
  {
   "cell_type": "markdown",
   "metadata": {},
   "source": [
    "### E) Download or snap two non-copyrighted photos with apples \n",
    "(maybe http://search.creativecommons.org/ or some other source of images that are not copyrighted).\n",
    "Make good ground-truth masks for them. You can use Windows Paint, or more sophisticated\n",
    "programs like Gimp (free). Use these as extra test-images. Report your qualitative and\n",
    "quantitative results."
   ]
  },
  {
   "cell_type": "code",
   "execution_count": null,
   "metadata": {},
   "outputs": [],
   "source": []
  },
  {
   "cell_type": "markdown",
   "metadata": {},
   "source": [
    "### F) We should really be using three separate sets of files: a training set, a validation set, and a test set! Explain why"
   ]
  },
  {
   "cell_type": "markdown",
   "metadata": {},
   "source": []
  }
 ],
 "metadata": {
  "kernelspec": {
   "display_name": "imageprocessing",
   "language": "python",
   "name": "python3"
  },
  "language_info": {
   "codemirror_mode": {
    "name": "ipython",
    "version": 3
   },
   "file_extension": ".py",
   "mimetype": "text/x-python",
   "name": "python",
   "nbconvert_exporter": "python",
   "pygments_lexer": "ipython3",
   "version": "3.9.18"
  }
 },
 "nbformat": 4,
 "nbformat_minor": 2
}
