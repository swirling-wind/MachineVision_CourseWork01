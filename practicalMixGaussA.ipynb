{
 "cells": [
  {
   "cell_type": "markdown",
   "metadata": {},
   "source": [
    "## practicalMixGaussA\n",
    "\n",
    "October 2017: This lab has been converted to Python by Stratos Skordos. Any errors are my fault.  \n",
    "October 2018: This lab has been checked by Mohamed Sayed. Any errors are now my fault.\n",
    "\n",
    "Tested against Python 3.6.6. Required Python modules:\n",
    "* numpy\n",
    "* scipy\n",
    "* matplotlib\n",
    "* pillow\n",
    "\n",
    "\n",
    "This lab explores fitting simple parametric models to visual data.\n",
    "The goal of this part of the lab (part A) is to fit one Gaussian model to the\n",
    "data for skin and another Gaussian to non-skin pixels, and use this to\n",
    "find the posterior probability that each pixel in an image is skin.\n",
    "The aim of part B is to fit a mixture of\n",
    "Gaussians model to one dimensional data. The aim of part C is to fit a\n",
    "mixture of Gaussians model to the RGB data.\n",
    "The aim of Part D is to apply what we've learned to real data.\n",
    "\n",
    "You should use this template for your code and fill in the missing\n",
    "sections marked \"TO DO\".\n",
    "\n",
    "\n",
    "\n",
    "\n",
    "-----------------------------------\n",
    "PLEASE NOTE: When implementing equations, you should only be using\n",
    "\"simple\" numpy commands, such as np.mean(). When it comes to functions like cov(), you should\n",
    "implement them yourself to show that you know what the functions are doing. \n",
    "\n",
    "You can check your cov() implementation against numpy's, **but\n",
    "beware, sometimes there are subtle differences\n",
    "between vanilla equations and what the numpy implememntation uses.**"
   ]
  },
  {
   "cell_type": "code",
   "execution_count": null,
   "metadata": {},
   "outputs": [],
   "source": [
    "import os \n",
    "import numpy as np\n",
    "import matplotlib.pyplot as plt\n",
    "import scipy.io as spio\n",
    "\n",
    "from numpy import sqrt, pi, exp, transpose, matmul\n",
    "from numpy.linalg import det, inv\n",
    "\n",
    "%matplotlib inline\n"
   ]
  },
  {
   "cell_type": "markdown",
   "metadata": {
    "collapsed": true
   },
   "source": [
    "Load in a test image and the corresponding ground truth segmentation mask. Your goal for this part of the lab is to segment this \n",
    "image and acheive a segmentation mask that's close to the ground truth mask."
   ]
  },
  {
   "cell_type": "code",
   "execution_count": null,
   "metadata": {},
   "outputs": [],
   "source": [
    "#loading the image\n",
    "im = plt.imread('bob_small.jpeg');\n",
    "#loading the segmentation mask\n",
    "gt = spio.loadmat('bob_GroundTruth_small.mat', squeeze_me=True)['gt']"
   ]
  },
  {
   "cell_type": "code",
   "execution_count": null,
   "metadata": {
    "scrolled": false
   },
   "outputs": [],
   "source": [
    "# display the test image and the ground truth mask\n",
    "\n",
    "f, (ax1, ax2) = plt.subplots(1, 2)\n",
    "ax1.imshow(im)\n",
    "ax1.set_title('Image')\n",
    "ax2.imshow(gt)\n",
    "ax1.set_title('Ground Truth')"
   ]
  },
  {
   "cell_type": "markdown",
   "metadata": {
    "collapsed": true
   },
   "source": [
    "Load in training data. The file contains two variables. Both are sized at 3 x 10000 (3 for RGB dimensions \n",
    "and 10000 for the number of data pixels). Each column contains RGB information for one pixel. "
   ]
  },
  {
   "cell_type": "code",
   "execution_count": null,
   "metadata": {},
   "outputs": [],
   "source": [
    "# load the file\n",
    "trainingData = spio.loadmat('RGBSkinNonSkin.mat', squeeze_me=True)\n",
    "\n",
    "#extract the non-skin matrix\n",
    "RGBNonSkin = np.float32(trainingData['RGBNonSkin'])\n",
    "#extract the skin matrix\n",
    "RGBSkin = np.float32(trainingData['RGBSkin'])"
   ]
  },
  {
   "cell_type": "markdown",
   "metadata": {},
   "source": [
    "**TODO HERE**:\n",
    "\n",
    "This function fits a single Gaussian distribution to your data. Fill in the TODO(s) now before moving on."
   ]
  },
  {
   "cell_type": "code",
   "execution_count": null,
   "metadata": {},
   "outputs": [],
   "source": [
    "#==========================================================================\n",
    "#==========================================================================\n",
    "\n",
    "def fitGaussianModel(data):    \n",
    "    \"\"\"\n",
    "    Returns the mean and covariance for a set of multidimensaional data.  \n",
    "    It is assumed that each column of the 2D array, data, contains a single data point.  \n",
    "    The mean vector should be a dx1 vector with the mean value of the data. For this lab, the output is a \n",
    "    3 by 1 vector containing the RGB mean of the input pixels. The covariance should be a dxd covariance\n",
    "    matrix. See the note at the top, which explains that using mean() is ok,\n",
    "    but please compute the covariance yourself.\n",
    "    \n",
    "    Keyword arguments:\n",
    "    data -- d by n matrix of data points. d is the number of dimensions and n is the number of data points.\n",
    "    \n",
    "    Returns: \n",
    "    meanData -- d by 1 vector containing the mean value of the input data.\n",
    "    covData -- d by d matrix containing the covariance of the input data.\n",
    "    \"\"\"\n",
    "\n",
    "    nDim,nData = data.shape\n",
    "    \n",
    "    #TO DO (a): replace the placeholders for meanData and covData with the real equations.\n",
    "    \n",
    "    #calculate mean of data.  You can do this using the numpy command 'mean'\n",
    "    meanData = np.mean(data, axis=1)\n",
    "    \n",
    "    #calculate covariance of data.  You should do this yourself to ensure you\n",
    "    #understand how.  Check you have the right answer by comparing with the\n",
    "    #numpy function np.cov().\n",
    "    def simple_cov(X, mean):\n",
    "        X -= mean[:,None]\n",
    "        return X @ (X.T.conjugate() / X.shape[1])\n",
    "\n",
    "    covData = simple_cov(data, meanData)  \n",
    "    # print(covData)\n",
    "    # print(np.cov(data))\n",
    "\n",
    "    return meanData,covData "
   ]
  },
  {
   "cell_type": "markdown",
   "metadata": {
    "collapsed": true
   },
   "source": [
    "Fit Gaussian models to the skin and non-skin data - make sure you've already filled in the TODO(s) in the above function."
   ]
  },
  {
   "cell_type": "code",
   "execution_count": null,
   "metadata": {},
   "outputs": [],
   "source": [
    "#fit Gaussian model for non-skin data\n",
    "meanSkin, covSkin = fitGaussianModel(RGBSkin)\n",
    "\n",
    "#fit Gaussian model for non-skin data\n",
    "meanNonSkin, covNonSkin = fitGaussianModel(RGBNonSkin)"
   ]
  },
  {
   "cell_type": "markdown",
   "metadata": {
    "collapsed": true
   },
   "source": [
    "**TODO HERE**:\n",
    "\n",
    "This function evaluates a Gaussian liklihood on some data. Fill in the TODO(s) now before moving on."
   ]
  },
  {
   "cell_type": "code",
   "execution_count": null,
   "metadata": {},
   "outputs": [],
   "source": [
    "#the goal of this routine is to evaluate a Gaussian likelihood\n",
    "def calcGaussianProb(data,gaussMean,gaussCov):\n",
    "    \"\"\"\n",
    "    Returns the likelihood that each data point in data belongs to the Gaussian described by gaussMean and \n",
    "    gaussCov.\n",
    "    \n",
    "    Keyword arguments:\n",
    "    data -- d by 1 matrix of data points. d is the number of dimensions and n is the number of data points.\n",
    "    gaussMean -- d by 1 vector containing the mean parameter of the Gaussian distribution.\n",
    "    gaussCov -- d by d matrix containing the covariance parameters of the Gaussian distribution.\n",
    "    \n",
    "    Returns: \n",
    "    like -- 1 by n vector contianing the likelihood that each data point in data belongs to the Gaussian \n",
    "    distribution defined by gaussMean and gaussCov.\n",
    "    \"\"\"\n",
    "    nDim,nData = data.shape\n",
    "    \n",
    "    #TO DO (b) - fill in this routine, replace the placeholders for like with the actual equation.\n",
    "    #replace this\n",
    "    like = (1 / (((2 * np.pi)**(nData / 2)) * sqrt(np.linalg.det(gaussCov)))) * exp(-0.5 * (data - gaussMean.reshape(3,1)).T @ inv(gaussCov) @ (data - gaussMean.reshape(3,1)))\n",
    "    return like"
   ]
  },
  {
   "cell_type": "markdown",
   "metadata": {
    "scrolled": true
   },
   "source": [
    "**TODO HERE**:\n",
    "\n",
    "It's time to use our models for inference on a test image. We will first define some priors on whether or not a pixel is human skin or not. We've defined these arbitrarily here, but other more informed priors can be inforced. \n",
    "\n",
    "We aim to calculate a posterior probability for whether or not a pixel is skin or not. Our liklihoods are defined by the gaussian models \"trained\" earlier.  \n",
    "\n",
    "For debugging's sake, we loop over every pixel and calculate its posterior indivisually. Feel free to vectorize this entirely after you're done with the rest of the sections."
   ]
  },
  {
   "cell_type": "code",
   "execution_count": null,
   "metadata": {
    "scrolled": true
   },
   "outputs": [],
   "source": [
    "# let's define priors for whether the pixel is skin or non skin\n",
    "priorSkin = 0.3;\n",
    "priorNonSkin = 0.7;\n",
    "\n",
    "# now run through the pixels in the image and classify them as being skin or\n",
    "# non skin - we will fill in the posterior\n",
    "imY, imX, imZ = im.shape\n",
    "posteriorSkin = np.zeros([imY,imX])\n",
    "for cY in range(imY): \n",
    "    print('Processing Row ',cY,'\\n')\n",
    "    for cX in range(imX):\n",
    "        #extract this pixel's data\n",
    "        thisPixelData = np.double(im[cY,cX,:])\n",
    "        thisPixelData = thisPixelData[:, np.newaxis]\n",
    "        \n",
    "        #make sure you've filled in calcGaussianProb above.\n",
    "        \n",
    "        #calculate likelihood of this data given skin model\n",
    "        likeSkin = calcGaussianProb(thisPixelData,meanSkin,covSkin);\n",
    "        #calculate likelihood of this data given non skin model\n",
    "        likeNonSkin = calcGaussianProb(thisPixelData,meanNonSkin,covNonSkin);\n",
    "        \n",
    "        \n",
    "        #TO DO (c):  calculate posterior probability from likelihoods and \n",
    "        #prioTO DOrs using BAYES rule. Replace this: \n",
    "        posteriorSkin[cY,cX] = (likeSkin * priorSkin) / (likeSkin * priorSkin + likeNonSkin * priorNonSkin)"
   ]
  },
  {
   "cell_type": "markdown",
   "metadata": {},
   "source": [
    "# Display the results!"
   ]
  },
  {
   "cell_type": "code",
   "execution_count": null,
   "metadata": {},
   "outputs": [],
   "source": [
    "# set up plots.\n",
    "f, (ax1, ax2, ax3) = plt.subplots(1, 3)\n",
    "#show the image\n",
    "ax1.imshow(im)\n",
    "ax1.set_title('Image')\n",
    "#show the ground truth mask\n",
    "ax2.imshow(gt)\n",
    "ax2.set_title('Ground Truth')\n",
    "#show our prediction!\n",
    "ax3.imshow(posteriorSkin)\n",
    "ax3.set_title('Result')"
   ]
  }
 ],
 "metadata": {
  "kernelspec": {
   "display_name": "Python 3 (ipykernel)",
   "language": "python",
   "name": "python3"
  },
  "language_info": {
   "codemirror_mode": {
    "name": "ipython",
    "version": 3
   },
   "file_extension": ".py",
   "mimetype": "text/x-python",
   "name": "python",
   "nbconvert_exporter": "python",
   "pygments_lexer": "ipython3",
   "version": "3.11.4"
  }
 },
 "nbformat": 4,
 "nbformat_minor": 2
}
