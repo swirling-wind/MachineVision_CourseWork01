{
 "cells": [
  {
   "cell_type": "markdown",
   "metadata": {},
   "source": [
    "# practicalMixGaussC\n",
    "\n",
    "The goal of this part of the lab is to fit a mixture of gaussians model to some multi-dimensional data. To do this, we will first generate some data from a known mixture of gaussians model and fit our own mixture of gaussians model to the generated data. The parameters from our estimated mixture of gaussians model should roughly match those of the original known model. \n",
    "\n",
    "Note that you should not use multivariate_normal.pdf for calculating likelihood.\n",
    "\n",
    "You should use this template for your code and fill in the missing \n",
    "sections marked \"TO DO.\"\n",
    "\n"
   ]
  },
  {
   "cell_type": "code",
   "execution_count": 47,
   "metadata": {},
   "outputs": [],
   "source": [
    "import os \n",
    "import numpy as np\n",
    "import matplotlib.pyplot as plt\n",
    "import scipy.io as spio\n",
    "from scipy.stats import norm \n",
    "from scipy.stats import multivariate_normal\n",
    "import time\n",
    "import sys\n",
    "\n",
    "flt_min = sys.float_info.min\n",
    "\n",
    "%matplotlib inline"
   ]
  },
  {
   "cell_type": "markdown",
   "metadata": {
    "collapsed": true
   },
   "source": [
    "## Construct Ground Truth Mixture of Gaussians Model and Plot Some Points\n",
    "\n",
    "Define some true parameters for our grounf truth mixture of $k$ Gaussians model. We will represent the \n",
    "mixtures of Gaussians as a python dictionary. The mean field is a $d \\times k$ matrix and the cov field is a \n",
    "$d \\times d \\times k$ matrix."
   ]
  },
  {
   "cell_type": "code",
   "execution_count": 48,
   "metadata": {},
   "outputs": [],
   "source": [
    "mixGaussTrue = dict()\n",
    "mixGaussTrue['k'] = 3\n",
    "mixGaussTrue['d'] = 2\n",
    "mixGaussTrue['weight'] = np.array([0.1309, 0.3966, 0.4725])\n",
    "mixGaussTrue['mean'] = np.array([[ 4.0491 , 4.8597],[ 7.7578 , 1.6335],[ 11.9945, 8.9206]]).T\n",
    "mixGaussTrue['cov'] = np.reshape([0.5, 0.25], newshape=(1,1,2))\n",
    "mixGaussTrue['cov'] = np.zeros(shape=(mixGaussTrue['d'],mixGaussTrue['d'],mixGaussTrue['k']))\n",
    "mixGaussTrue['cov'][:,:,0] = np.array([[  4.2534, 0.4791], [0.4791, 0.3522]])\n",
    "mixGaussTrue['cov'][:,:,1] = np.array([[  0.9729, 0.8723],[  0.8723,  2.6317]])\n",
    "mixGaussTrue['cov'][:,:,2] = np.array([[  0.9886, -1.2244],[ -1.2244, 3.0187]])"
   ]
  },
  {
   "cell_type": "markdown",
   "metadata": {
    "collapsed": true
   },
   "source": [
    "**drawEMData2d**, **sampleFromDiscrete**, **getGaussian2SD**, and **drawGaussianOutline** are helper functions."
   ]
  },
  {
   "cell_type": "code",
   "execution_count": 49,
   "metadata": {
    "scrolled": true
   },
   "outputs": [],
   "source": [
    "def sampleFromDiscrete(probDist):     \n",
    "    \"\"\"\n",
    "    Draws a random sample from a discrete probability distribution using a rejection sampling method.  \n",
    "    \n",
    "    Keyword arguments:\n",
    "    probDist -- discrete probability ditrubtion to sample from.\n",
    "    \n",
    "    Returns: \n",
    "    r -- sampled point.\n",
    "    \"\"\"\n",
    "    nIndex = len(probDist)                                                                 \n",
    "    while True:                                                                            \n",
    "        #choose random index                                                               \n",
    "        r=int(np.floor(np.random.uniform()*nIndex))                                        \n",
    "        #choose random height                                                              \n",
    "        randHeight = np.random.uniform()                                                   \n",
    "        #if height is less than probability value at this point in the                     \n",
    "        # histogram then select                                                            \n",
    "        if randHeight<probDist[r]:                                                         \n",
    "            break                                                                          \n",
    "    return r                                                                               "
   ]
  },
  {
   "cell_type": "code",
   "execution_count": 50,
   "metadata": {},
   "outputs": [],
   "source": [
    "def getGaussian2SD(m,s,angle1):\n",
    "    \"\"\"\n",
    "    Find position of in xy co-ordinates at 2SD out for a certain angle.\n",
    "    \"\"\"\n",
    "  \n",
    "    if s.shape[1] == 1:\n",
    "        s = diag(s)\n",
    "\n",
    "    vec = np.array([np.cos(angle1), np.sin(angle1)])\n",
    "    \n",
    "    factor = 4/(vec@np.linalg.inv(s)@vec.T)\n",
    "    \n",
    "    x = np.cos(angle1) * np.sqrt(factor)\n",
    "    y = np.sin(angle1) * np.sqrt(factor)\n",
    "\n",
    "    x = x + m[0]\n",
    "    y = y + m[1]\n",
    "                \n",
    "    return x,y"
   ]
  },
  {
   "cell_type": "code",
   "execution_count": 51,
   "metadata": {},
   "outputs": [],
   "source": [
    "def drawGaussianOutline(m,s,w):\n",
    "    \"\"\"\n",
    "    Draw 2DGaussian\n",
    "    \"\"\"\n",
    "    angleInc = 0.1    \n",
    "    c = (0.9*(1-w), 0, 0)\n",
    "\n",
    "    for cAngle in np.arange(0,2*np.pi,angleInc):         \n",
    "        angle1 = cAngle\n",
    "        angle2 = cAngle+angleInc\n",
    "        x1, y1 = getGaussian2SD(m,s,angle1)\n",
    "        x2, y2 = getGaussian2SD(m,s,angle2)\n",
    "        plt.plot([x1, x2],[y1, y2],'-',linewidth=2,color=c)                 \n",
    "    return"
   ]
  },
  {
   "cell_type": "code",
   "execution_count": 52,
   "metadata": {},
   "outputs": [],
   "source": [
    "def drawEMData2d(data,mixGauss):\n",
    "    \"\"\"\n",
    "    Plot the data plot the mixtures of Gaussian model, mixGauss, on top of it.\n",
    "    \n",
    "    Keyword arguments:\n",
    "    data -- d by n matrix of data points.\n",
    "    mixGauss -- dict with mixture of gaussian information.\n",
    "    \n",
    "    \"\"\"\n",
    "    #set(gcf,'Color',[1 1 1])\n",
    "    plt.cla() \n",
    "    plt.plot(data[0,:],data[1,:],'k.')\n",
    "\n",
    "    for cGauss in range(mixGauss['k']):\n",
    "        drawGaussianOutline(mixGauss['mean'][:,cGauss],mixGauss['cov'][:,:,cGauss],mixGauss['weight'][cGauss])\n",
    "    \n",
    "    return     \n"
   ]
  },
  {
   "cell_type": "markdown",
   "metadata": {},
   "source": [
    "**TODO HERE:**\n",
    "\n",
    "Complete the TO DO in this function before moving on."
   ]
  },
  {
   "cell_type": "code",
   "execution_count": 53,
   "metadata": {},
   "outputs": [],
   "source": [
    "def mixGaussGen(mixGauss, nData):                                                                              \n",
    "    \"\"\"\n",
    "    Generates data from a d-dimensional mixture of Gaussians model. \n",
    "    \n",
    "    Keyword arguments:\n",
    "    mixGauss -- dict containing the mixture of gaussians arguments.\n",
    "    nData -- number of data points to generate.\n",
    "    \n",
    "    Returns: \n",
    "    data -- d by nData, generated data points. \n",
    "    \n",
    "    \"\"\"\n",
    "    # create space for output data                                                                               \n",
    "    data = np.zeros(shape=(mixGauss['d'], nData))                                                                            \n",
    "    # for each data point                                                                                        \n",
    "    for cData in range(nData):                                                                                   \n",
    "        # randomly choose Gaussian according to probability distributions                                        \n",
    "        h = sampleFromDiscrete(mixGauss['weight'])                                                               \n",
    "        # draw a sample from the appropriate Gaussian distribution  \n",
    "        # first sample from the covariance matrix (google how to do this - it\n",
    "        # will involve the numpy function np.linalg.cholesky().  Then add the mean vector\n",
    "        # TO DO (f)- insert data generation code here                   \n",
    "\n",
    "        # first sample from the covariance matrix without using  multivariate_normal.pdf\n",
    "        def my_multivariate_normal(mean, cov):\n",
    "            decomp = np.linalg.cholesky(cov)\n",
    "            rand_dist = np.random.randn(mean.shape[0])\n",
    "            return mean + decomp @ rand_dist\n",
    "\n",
    "        data[:,cData] = my_multivariate_normal(mixGauss['mean'][:,h], mixGauss['cov'][:,:,h])\n",
    "        ## data[:, cData] = np.random.multivariate_normal(mixGauss['mean'][:, h], mixGauss['cov'][:, :, h])\n",
    "\n",
    "    return data"
   ]
  },
  {
   "cell_type": "markdown",
   "metadata": {},
   "source": [
    "With all the helper functions complete, we can now generate and plot some points from our model. The black points are the generated data points. The circles are what the gaussians look like."
   ]
  },
  {
   "cell_type": "code",
   "execution_count": 54,
   "metadata": {},
   "outputs": [
    {
     "data": {
      "image/png": "[encoded data removed]",
      "text/plain": [
       "<Figure size 640x480 with 1 Axes>"
      ]
     },
     "metadata": {},
     "output_type": "display_data"
    }
   ],
   "source": [
    "#define number of samples to generate\n",
    "nData = 400;\n",
    "\n",
    "#generate data from the mixture of Gaussians\n",
    "#make sure you've filled in the routine above.\n",
    "data = mixGaussGen(mixGaussTrue,nData)\n",
    "\n",
    "#draw data, true Gaussians\n",
    "drawEMData2d(data,mixGaussTrue)"
   ]
  },
  {
   "cell_type": "markdown",
   "metadata": {},
   "source": [
    "> ### [My Explanation]\n",
    "> The scatter plot shows the mocked data (black points) and the 2-dimensional Gaussian mixture model (red circles). The black points follow the Gaussian mixture's distribution."
   ]
  },
  {
   "cell_type": "markdown",
   "metadata": {
    "collapsed": true
   },
   "source": [
    "## Estimate MoG using the E-M Algorithm\n",
    "Here we want to use the E-M algorithm to fit a MoG model to our data points. \n",
    "\n",
    "**TODO HERE:** \n",
    "\n",
    "Fill out the missing parts below. \n",
    "\n",
    "The log likelihood is taken since the raw likelihood value could be too small for our machine's percision."
   ]
  },
  {
   "cell_type": "code",
   "execution_count": 55,
   "metadata": {},
   "outputs": [],
   "source": [
    "# def getMixGaussLogLike(data, mixGaussEst): \n",
    "#     \"\"\"\n",
    "#     Calculate the log likelihood for the whole dataset under a mixture of Gaussians model.\n",
    "    \n",
    "#     Keyword arguments:\n",
    "#     data -- d by n matrix containing data points.\n",
    "#     mixGaussEst -- dict containing the mixture of gaussians parameters.\n",
    "\n",
    "#     Returns: \n",
    "#     logLike -- scalar containing the log likelihood.\n",
    "    \n",
    "#     \"\"\"\n",
    "    \n",
    "#     data = np.atleast_2d(data)                                                                         \n",
    "#     # find total number of data items                                                                  \n",
    "#     nDims, nData = data.shape                                                                          \n",
    "    \n",
    "#     # initialize log likelihoods                                                                       \n",
    "#     logLike = 0;                                                                                       \n",
    "                                                                                                       \n",
    "#     # run through each data item                                                                       \n",
    "#     for cData in range(nData):                                                                         \n",
    "#         thisData = data[:, cData]                                                                      \n",
    "#         # TO DO - calculate likelihood of this data point under mixture of                         \n",
    "#         # Gaussians model. Replace this                                                                \n",
    "#         like = 1\n",
    "#         totalLike = 0\n",
    "\n",
    "#         def multivariate_normal_pdf(x, mu, cov):\n",
    "#             normal_denominator = 1.0 / np.sqrt(np.power((2 * np.pi), len(x)) * np.linalg.det(cov))\n",
    "#             x_mu = np.matrix(x - mu)\n",
    "#             return normal_denominator * np.exp(-0.5 * (x_mu @ np.linalg.inv(cov) @ x_mu.T))\n",
    "\n",
    "#         for current_gauss in range(mixGaussEst['k']):\n",
    "#             totalLike += mixGaussEst['weight'][current_gauss] * multivariate_normal_pdf(data[:, cData], mixGaussEst['mean'][:, current_gauss], mixGaussEst['cov'][:, :, current_gauss])\n",
    "\n",
    "#         like = totalLike\n",
    "#         # add to total log like                                                                        \n",
    "#         logLike = logLike + np.log(like)                                                               \n",
    "                                                                                                       \n",
    "#     return  logLike.item()                   \n",
    "\n",
    "def multivariate_normal_pdf(x, mu, cov):\n",
    "    normal_denominator = 1.0 / np.sqrt(np.power((2 * np.pi), cov.shape[0]) * np.linalg.det(cov))\n",
    "    x_mu = np.matrix(x - mu) # (424647, 3)\n",
    "    x_mu_dot_inv_cov = x_mu @ np.linalg.inv(cov) # (424647, 3)\n",
    "    exponent = -0.5 * np.sum(np.multiply(x_mu, x_mu_dot_inv_cov), axis=1)\n",
    "    return normal_denominator * np.exp(exponent)\n",
    "\n",
    "\n",
    "def getMixGaussLogLike(data, mixGaussEst):\n",
    "    data = np.atleast_2d(data)\n",
    "    all_likelidhood = np.zeros((data.shape[1], 1)) # (424647, 1)\n",
    "    for current_gauss in range(mixGaussEst['k']):\n",
    "        mean = np.tile(mixGaussEst['mean'][:,current_gauss], (data.shape[1], 1))\n",
    "        weight = mixGaussEst['weight'][current_gauss] # (1, 1)\n",
    "        prob = multivariate_normal_pdf(data.T, mean, mixGaussEst['cov'][:,:,current_gauss]) # (424647,1)\n",
    "        all_likelidhood += weight * prob          # (424647, 1)\n",
    "                                                                                                    \n",
    "    return np.sum(np.log(all_likelidhood))                                                                \n",
    "                                                                                                       "
   ]
  },
  {
   "cell_type": "markdown",
   "metadata": {
    "collapsed": true
   },
   "source": [
    "**TODO HERE:** \n",
    "\n",
    "Fill out the missing parts below. "
   ]
  },
  {
   "cell_type": "code",
   "execution_count": 56,
   "metadata": {},
   "outputs": [],
   "source": [
    "def fitMixGauss(data, k):\n",
    "    \"\"\"\n",
    "    Estimate a k MoG model that would fit the data. Incremently plots the outcome.\n",
    "               \n",
    "    \n",
    "    Keyword arguments:\n",
    "    data -- d by n matrix containing data points.\n",
    "    k -- scalar representing the number of gaussians to use in the MoG model.\n",
    "    \n",
    "    Returns: \n",
    "    mixGaussEst -- dict containing the estimated MoG parameters.\n",
    "    \n",
    "    \"\"\"\n",
    "    \n",
    "    #     MAIN E-M ROUTINE  \n",
    "    #     In the E-M algorithm, we calculate a complete posterior distribution over                                  \n",
    "    #     the (nData) hidden variables in the E-Step.  \n",
    "    #     In the M-Step, we update the parameters of the Gaussians (mean, cov, w).   \n",
    "    \n",
    "    nDims, nData = data.shape\n",
    "\n",
    "\n",
    "    postHidden = np.zeros(shape=(k, nData))\n",
    "\n",
    "    # we will initialize the values to random values\n",
    "    mixGaussEst = dict()\n",
    "    mixGaussEst['d'] = nDims\n",
    "    mixGaussEst['k'] = k\n",
    "    mixGaussEst['weight'] = (1 / k) * np.ones(shape=(k))\n",
    "    mixGaussEst['mean'] = 2 * np.random.randn(nDims, k)\n",
    "    mixGaussEst['cov'] = np.zeros(shape=(nDims, nDims, k))\n",
    "    for cGauss in range(k):\n",
    "        mixGaussEst['cov'][:, :, cGauss] = 2.5 + 1.5 * np.random.uniform() * np.eye(nDims)\n",
    "        \n",
    "\n",
    "    # calculate current likelihood\n",
    "    # TO DO - fill in this routine\n",
    "    logLike = getMixGaussLogLike(data, mixGaussEst)\n",
    "    print('Log Likelihood Iter 0 : {:4.3f}\\n'.format(logLike))\n",
    "\n",
    "    nIter = 30;\n",
    "\n",
    "    logLikeVec = np.zeros(shape=(2 * nIter))\n",
    "    boundVec = np.zeros(shape=(2 * nIter))\n",
    "\n",
    "    fig, ax = plt.subplots(1, 1)\n",
    "\n",
    "    for cIter in range(nIter):\n",
    "\n",
    "        # ===================== =====================\n",
    "        # Expectation step\n",
    "        # ===================== =====================\n",
    "\n",
    "            # TO DO (g) : fill in column of 'hidden' - calculate posterior probability that\n",
    "            # this data point came from each of the Gaussians\n",
    "            # replace this:\n",
    "        def multivariate_normal_pdf(x, mu, cov):\n",
    "            normal_denominator = 1.0 / np.sqrt(np.power((2 * np.pi), cov.shape[0]) * np.linalg.det(cov))\n",
    "            x_mu = np.matrix(x - mu) # (424647, 3)\n",
    "            x_mu_dot_inv_cov = x_mu @ np.linalg.inv(cov) # (424647, 3)\n",
    "            exponent = -0.5 * np.sum(np.multiply(x_mu, x_mu_dot_inv_cov), axis=1)\n",
    "            return normal_denominator * np.exp(exponent)\n",
    "        \n",
    "        for current_gauss in range(k):\n",
    "            mean = np.tile(mixGaussEst['mean'][:,current_gauss], (nData, 1))\n",
    "            weight = mixGaussEst['weight'][current_gauss] # (1, 1)\n",
    "            postHidden[current_gauss, :] = weight * multivariate_normal_pdf(data.T, mean, mixGaussEst['cov'][:,:,current_gauss]).squeeze() # (424647,1)\n",
    "        postHidden = postHidden / np.sum(postHidden, axis=0)\n",
    "\n",
    "        # ===================== =====================\n",
    "        # Maximization Step\n",
    "        # ===================== =====================\n",
    "        # for each constituent Gaussian\n",
    "        for cGauss in range(k):\n",
    "            # TO DO (h):  Update weighting parameters mixGauss.weight based on the total\n",
    "            # posterior probability associated with each Gaussian. Replace this:\n",
    "            mixGaussEst['weight'][cGauss] = np.sum(postHidden[cGauss,:]) / np.sum(postHidden)\n",
    "            \n",
    "            \n",
    "            # TO DO (i):  Update mean parameters mixGauss.mean by weighted average\n",
    "            # where weights are given by posterior probability associated with\n",
    "            # Gaussian.  Replace this:\n",
    "            mixGaussEst['mean'][:,cGauss] = np.sum(postHidden[cGauss,:] * data, axis=1) / np.sum(postHidden[cGauss,:])\n",
    "            \n",
    "          \n",
    "            # TO DO (j):  Update covarance parameter based on weighted average of\n",
    "            # square distance from11 update mean, where weights are given by\n",
    "            # posterior probability associated with Gaussian\n",
    "\n",
    "            mixGaussEst['cov'][:,:,cGauss] = np.zeros(shape=(nDims, nDims))\n",
    "            for current_data in range(nData):\n",
    "                # raw_cov =  np.outer(data[:,current_data] - mixGaussEst['mean'][:,cGauss], data[:,current_data] - mixGaussEst['mean'][:,cGauss])\n",
    "                # print(\"raw cov shape\", raw_cov.shape)\n",
    "                # print(\"raw cov\", raw_cov)\n",
    "                mixGaussEst['cov'][:,:,cGauss] += postHidden[cGauss,current_data] * np.outer(data[:,current_data] - mixGaussEst['mean'][:,cGauss], data[:,current_data] - mixGaussEst['mean'][:,cGauss])\n",
    "                # break\n",
    "            mixGaussEst['cov'][:,:,cGauss] /= np.sum(postHidden[cGauss,:])\n",
    "\n",
    "            # print(\"posthidden shape\", postHidden[cGauss,:].shape)\n",
    "            # print(\"posthidden\", postHidden[cGauss,:])\n",
    "    \n",
    "        #     tiled_means = np.tile(mixGaussEst['mean'][:,cGauss], (nData, 1)).T\n",
    "        #     xi_mu = data - tiled_means\n",
    "        #     raw_cov = xi_mu @ xi_mu.T\n",
    "        #     print\n",
    "        #     print(\"raw cov shape\", raw_cov.shape)\n",
    "        #     mixGaussEst['cov'][:,:,cGauss] = (raw_cov) * np.sum(postHidden[cGauss,:]) / sum_r_ik\n",
    "        #     break\n",
    "        # break\n",
    "\n",
    "            # draw the new solution\n",
    "        drawEMData2d(data, mixGaussEst)\n",
    "        time.sleep(0.0) # 0.7\n",
    "        fig.canvas.draw()\n",
    "\n",
    "        # calculate the log likelihood\n",
    "        logLike = getMixGaussLogLike(data, mixGaussEst)\n",
    "        print('Log Likelihood After Iter {} : {:4.3f}\\n'.format(cIter, logLike))\n",
    "\n",
    "\n",
    "    return mixGaussEst"
   ]
  },
  {
   "cell_type": "markdown",
   "metadata": {},
   "source": [
    "### Time to put it all together!\n",
    "\n",
    "Make sure you've filled all the TO DOs above! "
   ]
  },
  {
   "cell_type": "code",
   "execution_count": 57,
   "metadata": {},
   "outputs": [
    {
     "name": "stdout",
     "output_type": "stream",
     "text": [
      "Log Likelihood Iter 0 : -7126.585\n",
      "\n",
      "Log Likelihood After Iter 0 : -1904.720\n",
      "\n",
      "Log Likelihood After Iter 1 : -1899.984\n",
      "\n",
      "Log Likelihood After Iter 2 : -1898.810\n",
      "\n",
      "Log Likelihood After Iter 3 : -1897.649\n",
      "\n",
      "Log Likelihood After Iter 4 : -1894.718\n",
      "\n",
      "Log Likelihood After Iter 5 : -1888.149\n",
      "\n",
      "Log Likelihood After Iter 6 : -1880.789\n",
      "\n",
      "Log Likelihood After Iter 7 : -1875.260\n",
      "\n",
      "Log Likelihood After Iter 8 : -1868.540\n",
      "\n",
      "Log Likelihood After Iter 9 : -1857.779\n",
      "\n",
      "Log Likelihood After Iter 10 : -1837.223\n",
      "\n",
      "Log Likelihood After Iter 11 : -1794.496\n",
      "\n",
      "Log Likelihood After Iter 12 : -1723.894\n",
      "\n",
      "Log Likelihood After Iter 13 : -1695.502\n",
      "\n",
      "Log Likelihood After Iter 14 : -1670.465\n",
      "\n",
      "Log Likelihood After Iter 15 : -1644.273\n",
      "\n",
      "Log Likelihood After Iter 16 : -1611.301\n",
      "\n",
      "Log Likelihood After Iter 17 : -1574.184\n",
      "\n",
      "Log Likelihood After Iter 18 : -1554.482\n",
      "\n",
      "Log Likelihood After Iter 19 : -1554.093\n",
      "\n",
      "Log Likelihood After Iter 20 : -1554.092\n",
      "\n",
      "Log Likelihood After Iter 21 : -1554.092\n",
      "\n",
      "Log Likelihood After Iter 22 : -1554.092\n",
      "\n",
      "Log Likelihood After Iter 23 : -1554.092\n",
      "\n",
      "Log Likelihood After Iter 24 : -1554.092\n",
      "\n",
      "Log Likelihood After Iter 25 : -1554.092\n",
      "\n",
      "Log Likelihood After Iter 26 : -1554.092\n",
      "\n",
      "Log Likelihood After Iter 27 : -1554.092\n",
      "\n",
      "Log Likelihood After Iter 28 : -1554.092\n",
      "\n",
      "Log Likelihood After Iter 29 : -1554.092\n",
      "\n"
     ]
    },
    {
     "data": {
      "image/png": "[encoded data removed]",
      "text/plain": [
       "<Figure size 640x480 with 1 Axes>"
      ]
     },
     "metadata": {},
     "output_type": "display_data"
    }
   ],
   "source": [
    "#define number of components to estimate\n",
    "nGaussEst = 3\n",
    "\n",
    "#fit mixture of Gaussians (Pretend someone handed you some data. Now what?)\n",
    "#TO DO fill in this routine (below)\n",
    "mixGaussEst = fitMixGauss(data,nGaussEst);"
   ]
  },
  {
   "cell_type": "markdown",
   "metadata": {},
   "source": [
    "> ### [My Explanation]\n",
    "> The scatter plot shows the mocked data (black points) and the 2-dimensional Gaussian mixture model (red circles) with parameters estimated by E-M algorithm after 30 iterations based on the mocked data. Comparing it with the ground truth, the result is ideal, and this estimated Gaussian mixture model has fit the distribution of these given points very well."
   ]
  }
 ],
 "metadata": {
  "kernelspec": {
   "display_name": "Python 3 (ipykernel)",
   "language": "python",
   "name": "python3"
  },
  "language_info": {
   "codemirror_mode": {
    "name": "ipython",
    "version": 3
   },
   "file_extension": ".py",
   "mimetype": "text/x-python",
   "name": "python",
   "nbconvert_exporter": "python",
   "pygments_lexer": "ipython3",
   "version": "3.9.18"
  }
 },
 "nbformat": 4,
 "nbformat_minor": 2
}
