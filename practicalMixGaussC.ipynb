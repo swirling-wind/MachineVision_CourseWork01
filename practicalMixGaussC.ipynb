{
 "cells": [
  {
   "cell_type": "markdown",
   "metadata": {},
   "source": [
    "# practicalMixGaussC\n",
    "\n",
    "The goal of this part of the lab is to fit a mixture of gaussians model to some multi-dimensional data. To do this, we will first generate some data from a known mixture of gaussians model and fit our own mixture of gaussians model to the generated data. The parameters from our estimated mixture of gaussians model should roughly match those of the original known model. \n",
    "\n",
    "Note that you should not use multivariate_normal.pdf for calculating likelihood.\n",
    "\n",
    "You should use this template for your code and fill in the missing \n",
    "sections marked \"TO DO.\"\n",
    "\n"
   ]
  },
  {
   "cell_type": "code",
   "execution_count": 79,
   "metadata": {},
   "outputs": [],
   "source": [
    "import os \n",
    "import numpy as np\n",
    "import matplotlib.pyplot as plt\n",
    "import scipy.io as spio\n",
    "from scipy.stats import norm \n",
    "from scipy.stats import multivariate_normal\n",
    "import time\n",
    "import sys\n",
    "\n",
    "flt_min = sys.float_info.min\n",
    "\n",
    "%matplotlib inline"
   ]
  },
  {
   "cell_type": "markdown",
   "metadata": {
    "collapsed": true
   },
   "source": [
    "## Construct Ground Truth Mixture of Gaussians Model and Plot Some Points\n",
    "\n",
    "Define some true parameters for our grounf truth mixture of $k$ Gaussians model. We will represent the \n",
    "mixtures of Gaussians as a python dictionary. The mean field is a $d \\times k$ matrix and the cov field is a \n",
    "$d \\times d \\times k$ matrix."
   ]
  },
  {
   "cell_type": "code",
   "execution_count": 80,
   "metadata": {},
   "outputs": [],
   "source": [
    "mixGaussTrue = dict()\n",
    "mixGaussTrue['k'] = 3\n",
    "mixGaussTrue['d'] = 2\n",
    "mixGaussTrue['weight'] = np.array([0.1309, 0.3966, 0.4725])\n",
    "mixGaussTrue['mean'] = np.array([[ 4.0491 , 4.8597],[ 7.7578 , 1.6335],[ 11.9945, 8.9206]]).T\n",
    "mixGaussTrue['cov'] = np.reshape([0.5, 0.25], newshape=(1,1,2))\n",
    "mixGaussTrue['cov'] = np.zeros(shape=(mixGaussTrue['d'],mixGaussTrue['d'],mixGaussTrue['k']))\n",
    "mixGaussTrue['cov'][:,:,0] = np.array([[  4.2534, 0.4791], [0.4791, 0.3522]])\n",
    "mixGaussTrue['cov'][:,:,1] = np.array([[  0.9729, 0.8723],[  0.8723,  2.6317]])\n",
    "mixGaussTrue['cov'][:,:,2] = np.array([[  0.9886, -1.2244],[ -1.2244, 3.0187]])"
   ]
  },
  {
   "cell_type": "markdown",
   "metadata": {
    "collapsed": true
   },
   "source": [
    "**drawEMData2d**, **sampleFromDiscrete**, **getGaussian2SD**, and **drawGaussianOutline** are helper functions."
   ]
  },
  {
   "cell_type": "code",
   "execution_count": 81,
   "metadata": {
    "scrolled": true
   },
   "outputs": [],
   "source": [
    "def sampleFromDiscrete(probDist):     \n",
    "    \"\"\"\n",
    "    Draws a random sample from a discrete probability distribution using a rejection sampling method.  \n",
    "    \n",
    "    Keyword arguments:\n",
    "    probDist -- discrete probability ditrubtion to sample from.\n",
    "    \n",
    "    Returns: \n",
    "    r -- sampled point.\n",
    "    \"\"\"\n",
    "    nIndex = len(probDist)                                                                 \n",
    "    while True:                                                                            \n",
    "        #choose random index                                                               \n",
    "        r=int(np.floor(np.random.uniform()*nIndex))                                        \n",
    "        #choose random height                                                              \n",
    "        randHeight = np.random.uniform()                                                   \n",
    "        #if height is less than probability value at this point in the                     \n",
    "        # histogram then select                                                            \n",
    "        if randHeight<probDist[r]:                                                         \n",
    "            break                                                                          \n",
    "    return r                                                                               "
   ]
  },
  {
   "cell_type": "code",
   "execution_count": 82,
   "metadata": {},
   "outputs": [],
   "source": [
    "def getGaussian2SD(m,s,angle1):\n",
    "    \"\"\"\n",
    "    Find position of in xy co-ordinates at 2SD out for a certain angle.\n",
    "    \"\"\"\n",
    "  \n",
    "    if s.shape[1] == 1:\n",
    "        s = diag(s)\n",
    "\n",
    "    vec = np.array([np.cos(angle1), np.sin(angle1)])\n",
    "    \n",
    "    factor = 4/(vec@np.linalg.inv(s)@vec.T)\n",
    "    \n",
    "    x = np.cos(angle1) * np.sqrt(factor)\n",
    "    y = np.sin(angle1) * np.sqrt(factor)\n",
    "\n",
    "    x = x + m[0]\n",
    "    y = y + m[1]\n",
    "                \n",
    "    return x,y"
   ]
  },
  {
   "cell_type": "code",
   "execution_count": 83,
   "metadata": {},
   "outputs": [],
   "source": [
    "def drawGaussianOutline(m,s,w):\n",
    "    \"\"\"\n",
    "    Draw 2DGaussian\n",
    "    \"\"\"\n",
    "    angleInc = 0.1    \n",
    "    c = (0.9*(1-w), 0, 0)\n",
    "\n",
    "    for cAngle in np.arange(0,2*np.pi,angleInc):         \n",
    "        angle1 = cAngle\n",
    "        angle2 = cAngle+angleInc\n",
    "        x1, y1 = getGaussian2SD(m,s,angle1)\n",
    "        x2, y2 = getGaussian2SD(m,s,angle2)\n",
    "        plt.plot([x1, x2],[y1, y2],'-',linewidth=2,color=c)                 \n",
    "    return"
   ]
  },
  {
   "cell_type": "code",
   "execution_count": 84,
   "metadata": {},
   "outputs": [],
   "source": [
    "def drawEMData2d(data,mixGauss):\n",
    "    \"\"\"\n",
    "    Plot the data plot the mixtures of Gaussian model, mixGauss, on top of it.\n",
    "    \n",
    "    Keyword arguments:\n",
    "    data -- d by n matrix of data points.\n",
    "    mixGauss -- dict with mixture of gaussian information.\n",
    "    \n",
    "    \"\"\"\n",
    "    #set(gcf,'Color',[1 1 1])\n",
    "    plt.cla() \n",
    "    plt.plot(data[0,:],data[1,:],'k.')\n",
    "\n",
    "    for cGauss in range(mixGauss['k']):\n",
    "        drawGaussianOutline(mixGauss['mean'][:,cGauss],mixGauss['cov'][:,:,cGauss],mixGauss['weight'][cGauss])\n",
    "    \n",
    "    return     \n"
   ]
  },
  {
   "cell_type": "markdown",
   "metadata": {},
   "source": [
    "**TODO HERE:**\n",
    "\n",
    "Complete the TO DO in this function before moving on."
   ]
  },
  {
   "cell_type": "code",
   "execution_count": 85,
   "metadata": {},
   "outputs": [],
   "source": [
    "def mixGaussGen(mixGauss, nData):                                                                              \n",
    "    \"\"\"\n",
    "    Generates data from a d-dimensional mixture of Gaussians model. \n",
    "    \n",
    "    Keyword arguments:\n",
    "    mixGauss -- dict containing the mixture of gaussians arguments.\n",
    "    nData -- number of data points to generate.\n",
    "    \n",
    "    Returns: \n",
    "    data -- d by nData, generated data points. \n",
    "    \n",
    "    \"\"\"\n",
    "    # create space for output data                                                                               \n",
    "    data = np.zeros(shape=(mixGauss['d'], nData))                                                                            \n",
    "    # for each data point                                                                                        \n",
    "    for cData in range(nData):                                                                                   \n",
    "        # randomly choose Gaussian according to probability distributions                                        \n",
    "        h = sampleFromDiscrete(mixGauss['weight'])                                                               \n",
    "        # draw a sample from the appropriate Gaussian distribution  \n",
    "        # first sample from the covariance matrix (google how to do this - it\n",
    "        # will involve the numpy function np.linalg.cholesky().  Then add the mean vector\n",
    "        # TO DO (f)- insert data generation code here                   \n",
    "\n",
    "        # first sample from the covariance matrix without using  multivariate_normal.pdf\n",
    "        def multivariate_normal(mean, cov):\n",
    "            decomp = np.linalg.cholesky(cov)\n",
    "            rand_dist = np.random.randn(mean.shape[0])\n",
    "            return mean + decomp @ rand_dist\n",
    "\n",
    "        data[:,cData] = multivariate_normal(mixGauss['mean'][:,h], mixGauss['cov'][:,:,h])\n",
    "        ## data[:, cData] = np.random.multivariate_normal(mixGauss['mean'][:, h], mixGauss['cov'][:, :, h])\n",
    "\n",
    "    return data"
   ]
  },
  {
   "cell_type": "markdown",
   "metadata": {},
   "source": [
    "With all the helper functions complete, we can now generate and plot some points from our model. The black points are the generated data points. The circles are what the gaussians look like."
   ]
  },
  {
   "cell_type": "code",
   "execution_count": 86,
   "metadata": {},
   "outputs": [
    {
     "data": {
      "image/png": "[encoded data removed]",
      "text/plain": [
       "<Figure size 640x480 with 1 Axes>"
      ]
     },
     "metadata": {},
     "output_type": "display_data"
    }
   ],
   "source": [
    "#define number of samples to generate\n",
    "nData = 400;\n",
    "\n",
    "#generate data from the mixture of Gaussians\n",
    "#make sure you've filled in the routine above.\n",
    "data = mixGaussGen(mixGaussTrue,nData)\n",
    "\n",
    "#draw data, true Gaussians\n",
    "drawEMData2d(data,mixGaussTrue)"
   ]
  },
  {
   "cell_type": "markdown",
   "metadata": {},
   "source": [
    "> ### [My Explanation]\n",
    "> The scatter plot shows the mocked data (black points) and the 2-dimensional Gaussian mixture model (red circles). The black points follow the Gaussian mixture's distribution."
   ]
  },
  {
   "cell_type": "markdown",
   "metadata": {
    "collapsed": true
   },
   "source": [
    "## Estimate MoG using the E-M Algorithm\n",
    "Here we want to use the E-M algorithm to fit a MoG model to our data points. \n",
    "\n",
    "**TODO HERE:** \n",
    "\n",
    "Fill out the missing parts below. \n",
    "\n",
    "The log likelihood is taken since the raw likelihood value could be too small for our machine's percision."
   ]
  },
  {
   "cell_type": "code",
   "execution_count": 87,
   "metadata": {},
   "outputs": [],
   "source": [
    "def getMixGaussLogLike(data, mixGaussEst): \n",
    "    \"\"\"\n",
    "    Calculate the log likelihood for the whole dataset under a mixture of Gaussians model.\n",
    "    \n",
    "    Keyword arguments:\n",
    "    data -- d by n matrix containing data points.\n",
    "    mixGaussEst -- dict containing the mixture of gaussians parameters.\n",
    "\n",
    "    Returns: \n",
    "    logLike -- scalar containing the log likelihood.\n",
    "    \n",
    "    \"\"\"\n",
    "    \n",
    "    data = np.atleast_2d(data)                                                                         \n",
    "    # find total number of data items                                                                  \n",
    "    nDims, nData = data.shape                                                                          \n",
    "    \n",
    "    # initialize log likelihoods                                                                       \n",
    "    logLike = 0;                                                                                       \n",
    "                                                                                                       \n",
    "    # run through each data item                                                                       \n",
    "    for cData in range(nData):                                                                         \n",
    "        thisData = data[:, cData]                                                                      \n",
    "        # TO DO - calculate likelihood of this data point under mixture of                         \n",
    "        # Gaussians model. Replace this                                                                \n",
    "        like = 1\n",
    "        totalLike = 0\n",
    "\n",
    "        def multivariate_normal_pdf(x, mu, cov):\n",
    "            normal_denominator = 1.0 / np.sqrt(np.power((2 * np.pi), len(x)) * np.linalg.det(cov))\n",
    "            x_mu = np.matrix(x - mu)\n",
    "            return normal_denominator * np.exp(-0.5 * (x_mu * np.linalg.inv(cov) * x_mu.T)) \n",
    "\n",
    "        for current_gauss in range(mixGaussEst['k']):\n",
    "            totalLike += mixGaussEst['weight'][current_gauss] * multivariate_normal_pdf(data[:, cData], mixGaussEst['mean'][:, current_gauss], mixGaussEst['cov'][:, :, current_gauss])\n",
    "\n",
    "        like = totalLike\n",
    "        # add to total log like                                                                        \n",
    "        logLike = logLike + np.log(like)                                                               \n",
    "                                                                                                       \n",
    "    return  logLike.item()                                                                       \n",
    "                                                                                                       "
   ]
  },
  {
   "cell_type": "markdown",
   "metadata": {
    "collapsed": true
   },
   "source": [
    "**TODO HERE:** \n",
    "\n",
    "Fill out the missing parts below. "
   ]
  },
  {
   "cell_type": "code",
   "execution_count": 88,
   "metadata": {},
   "outputs": [],
   "source": [
    "def fitMixGauss(data, k):\n",
    "    \"\"\"\n",
    "    Estimate a k MoG model that would fit the data. Incremently plots the outcome.\n",
    "               \n",
    "    \n",
    "    Keyword arguments:\n",
    "    data -- d by n matrix containing data points.\n",
    "    k -- scalar representing the number of gaussians to use in the MoG model.\n",
    "    \n",
    "    Returns: \n",
    "    mixGaussEst -- dict containing the estimated MoG parameters.\n",
    "    \n",
    "    \"\"\"\n",
    "    \n",
    "    #     MAIN E-M ROUTINE  \n",
    "    #     In the E-M algorithm, we calculate a complete posterior distribution over                                  \n",
    "    #     the (nData) hidden variables in the E-Step.  \n",
    "    #     In the M-Step, we update the parameters of the Gaussians (mean, cov, w).   \n",
    "    \n",
    "    nDims, nData = data.shape\n",
    "\n",
    "\n",
    "    postHidden = np.zeros(shape=(k, nData))\n",
    "\n",
    "    # we will initialize the values to random values\n",
    "    mixGaussEst = dict()\n",
    "    mixGaussEst['d'] = nDims\n",
    "    mixGaussEst['k'] = k\n",
    "    mixGaussEst['weight'] = (1 / k) * np.ones(shape=(k))\n",
    "    mixGaussEst['mean'] = 2 * np.random.randn(nDims, k)\n",
    "    mixGaussEst['cov'] = np.zeros(shape=(nDims, nDims, k))\n",
    "    for cGauss in range(k):\n",
    "        mixGaussEst['cov'][:, :, cGauss] = 2.5 + 1.5 * np.random.uniform() * np.eye(nDims)\n",
    "        \n",
    "\n",
    "    # calculate current likelihood\n",
    "    # TO DO - fill in this routine\n",
    "    logLike = getMixGaussLogLike(data, mixGaussEst)\n",
    "    print('Log Likelihood Iter 0 : {:4.3f}\\n'.format(logLike))\n",
    "\n",
    "    nIter = 30;\n",
    "\n",
    "    logLikeVec = np.zeros(shape=(2 * nIter))\n",
    "    boundVec = np.zeros(shape=(2 * nIter))\n",
    "\n",
    "    fig, ax = plt.subplots(1, 1)\n",
    "\n",
    "    for cIter in range(nIter):\n",
    "\n",
    "        # ===================== =====================\n",
    "        # Expectation step\n",
    "        # ===================== =====================\n",
    "\n",
    "        for cData in range(nData):\n",
    "            # TO DO (g) : fill in column of 'hidden' - calculate posterior probability that\n",
    "            # this data point came from each of the Gaussians\n",
    "            # replace this:\n",
    "            def multivariate_normal_pdf(x, mu, cov):\n",
    "                normal_denominator = 1.0 / np.sqrt(np.power((2 * np.pi), len(x)) * np.linalg.det(cov))\n",
    "                x_mu = np.matrix(x - mu)\n",
    "                return normal_denominator * np.exp(-0.5 * (x_mu * np.linalg.inv(cov) * x_mu.T)) \n",
    "\n",
    "            \n",
    "            postHidden[:, cData] = np.zeros(shape=(k))\n",
    "            for current_gauss in range(k):\n",
    "                postHidden[current_gauss, cData] = mixGaussEst['weight'][current_gauss] * multivariate_normal_pdf(data[:, cData], mixGaussEst['mean'][:, current_gauss], mixGaussEst['cov'][:, :, current_gauss])\n",
    "\n",
    "            postHidden[:, cData] = postHidden[:, cData] / np.sum(postHidden[:, cData])\n",
    "\n",
    "        # ===================== =====================\n",
    "        # Maximization Step\n",
    "        # ===================== =====================\n",
    "        # for each constituent Gaussian\n",
    "        for cGauss in range(k):\n",
    "            # TO DO (h):  Update weighting parameters mixGauss.weight based on the total\n",
    "            # posterior probability associated with each Gaussian. Replace this:\n",
    "            mixGaussEst['weight'][cGauss] = np.sum(postHidden[cGauss,:]) / np.sum(postHidden)\n",
    "            \n",
    "            \n",
    "            # TO DO (i):  Update mean parameters mixGauss.mean by weighted average\n",
    "            # where weights are given by posterior probability associated with\n",
    "            # Gaussian.  Replace this:\n",
    "            mixGaussEst['mean'][:,cGauss] = np.sum(postHidden[cGauss,:] * data, axis=1) / np.sum(postHidden[cGauss,:])\n",
    "            \n",
    "            # TO DO (j):  Update covarance parameter based on weighted average of\n",
    "            # square distance from11 update mean, where weights are given by\n",
    "            # posterior probability associated with Gaussian\n",
    "            mixGaussEst['cov'][:,:,cGauss] = np.zeros(shape=(nDims, nDims))\n",
    "            for current_data in range(nData):\n",
    "                mixGaussEst['cov'][:,:,cGauss] += postHidden[cGauss,current_data] * np.outer(data[:,current_data] - mixGaussEst['mean'][:,cGauss], data[:,current_data] - mixGaussEst['mean'][:,cGauss])\n",
    "            mixGaussEst['cov'][:,:,cGauss] /= np.sum(postHidden[cGauss,:])\n",
    "            \n",
    "            # draw the new solution\n",
    "        drawEMData2d(data, mixGaussEst)\n",
    "        time.sleep(0.7)\n",
    "        fig.canvas.draw()\n",
    "\n",
    "        # calculate the log likelihood\n",
    "        logLike = getMixGaussLogLike(data, mixGaussEst)\n",
    "        print('Log Likelihood After Iter {} : {:4.3f}\\n'.format(cIter, logLike))\n",
    "\n",
    "\n",
    "    return mixGaussEst"
   ]
  },
  {
   "cell_type": "markdown",
   "metadata": {},
   "source": [
    "### Time to put it all together!\n",
    "\n",
    "Make sure you've filled all the TO DOs above! "
   ]
  },
  {
   "cell_type": "code",
   "execution_count": 89,
   "metadata": {},
   "outputs": [
    {
     "name": "stdout",
     "output_type": "stream",
     "text": [
      "Log Likelihood Iter 0 : -14196.857\n",
      "\n"
     ]
    },
    {
     "name": "stderr",
     "output_type": "stream",
     "text": [
      "C:\\Users\\yaozi\\AppData\\Local\\Temp\\ipykernel_14132\\58482028.py:66: DeprecationWarning: Conversion of an array with ndim > 0 to a scalar is deprecated, and will error in future. Ensure you extract a single element from your array before performing this operation. (Deprecated NumPy 1.25.)\n",
      "  postHidden[current_gauss, cData] = mixGaussEst['weight'][current_gauss] * multivariate_normal_pdf(data[:, cData], mixGaussEst['mean'][:, current_gauss], mixGaussEst['cov'][:, :, current_gauss])\n"
     ]
    },
    {
     "name": "stdout",
     "output_type": "stream",
     "text": [
      "Log Likelihood After Iter 0 : -2033.498\n",
      "\n",
      "Log Likelihood After Iter 1 : -1976.378\n",
      "\n",
      "Log Likelihood After Iter 2 : -1920.738\n",
      "\n",
      "Log Likelihood After Iter 3 : -1873.746\n",
      "\n"
     ]
    },
    {
     "name": "stderr",
     "output_type": "stream",
     "text": [
      "C:\\Users\\yaozi\\AppData\\Local\\Temp\\ipykernel_14132\\536731516.py:13: RuntimeWarning: invalid value encountered in sqrt\n",
      "  x = np.cos(angle1) * np.sqrt(factor)\n",
      "C:\\Users\\yaozi\\AppData\\Local\\Temp\\ipykernel_14132\\536731516.py:14: RuntimeWarning: invalid value encountered in sqrt\n",
      "  y = np.sin(angle1) * np.sqrt(factor)\n",
      "C:\\Users\\yaozi\\AppData\\Local\\Temp\\ipykernel_14132\\3017449990.py:30: RuntimeWarning: invalid value encountered in sqrt\n",
      "  normal_denominator = 1.0 / np.sqrt(np.power((2 * np.pi), len(x)) * np.linalg.det(cov))\n",
      "C:\\Users\\yaozi\\AppData\\Local\\Temp\\ipykernel_14132\\3017449990.py:32: RuntimeWarning: overflow encountered in exp\n",
      "  return normal_denominator * np.exp(-0.5 * (x_mu * np.linalg.inv(cov) * x_mu.T))\n",
      "C:\\Users\\yaozi\\AppData\\Local\\Temp\\ipykernel_14132\\58482028.py:59: RuntimeWarning: invalid value encountered in sqrt\n",
      "  normal_denominator = 1.0 / np.sqrt(np.power((2 * np.pi), len(x)) * np.linalg.det(cov))\n",
      "C:\\Users\\yaozi\\AppData\\Local\\Temp\\ipykernel_14132\\58482028.py:61: RuntimeWarning: overflow encountered in exp\n",
      "  return normal_denominator * np.exp(-0.5 * (x_mu * np.linalg.inv(cov) * x_mu.T))\n"
     ]
    },
    {
     "name": "stdout",
     "output_type": "stream",
     "text": [
      "Log Likelihood After Iter 4 :  nan\n",
      "\n"
     ]
    },
    {
     "name": "stderr",
     "output_type": "stream",
     "text": [
      "e:\\Miniconda\\envs\\imageprocessing\\lib\\site-packages\\numpy\\linalg\\linalg.py:2180: RuntimeWarning: invalid value encountered in det\n",
      "  r = _umath_linalg.det(a, signature=signature)\n"
     ]
    },
    {
     "name": "stdout",
     "output_type": "stream",
     "text": [
      "Log Likelihood After Iter 5 :  nan\n",
      "\n",
      "Log Likelihood After Iter 6 :  nan\n",
      "\n",
      "Log Likelihood After Iter 7 :  nan\n",
      "\n",
      "Log Likelihood After Iter 8 :  nan\n",
      "\n",
      "Log Likelihood After Iter 9 :  nan\n",
      "\n",
      "Log Likelihood After Iter 10 :  nan\n",
      "\n",
      "Log Likelihood After Iter 11 :  nan\n",
      "\n"
     ]
    },
    {
     "ename": "KeyboardInterrupt",
     "evalue": "",
     "output_type": "error",
     "traceback": [
      "\u001b[1;31m---------------------------------------------------------------------------\u001b[0m",
      "\u001b[1;31mKeyboardInterrupt\u001b[0m                         Traceback (most recent call last)",
      "\u001b[1;32mc:\\Users\\yaozi\\Desktop\\MachineVision\\MV_CW1\\practicalMixGaussC.ipynb Cell 20\u001b[0m line \u001b[0;36m6\n\u001b[0;32m      <a href='vscode-notebook-cell:/c%3A/Users/yaozi/Desktop/MachineVision/MV_CW1/practicalMixGaussC.ipynb#X25sZmlsZQ%3D%3D?line=1'>2</a>\u001b[0m nGaussEst \u001b[39m=\u001b[39m \u001b[39m3\u001b[39m\n\u001b[0;32m      <a href='vscode-notebook-cell:/c%3A/Users/yaozi/Desktop/MachineVision/MV_CW1/practicalMixGaussC.ipynb#X25sZmlsZQ%3D%3D?line=3'>4</a>\u001b[0m \u001b[39m#fit mixture of Gaussians (Pretend someone handed you some data. Now what?)\u001b[39;00m\n\u001b[0;32m      <a href='vscode-notebook-cell:/c%3A/Users/yaozi/Desktop/MachineVision/MV_CW1/practicalMixGaussC.ipynb#X25sZmlsZQ%3D%3D?line=4'>5</a>\u001b[0m \u001b[39m#TO DO fill in this routine (below)\u001b[39;00m\n\u001b[1;32m----> <a href='vscode-notebook-cell:/c%3A/Users/yaozi/Desktop/MachineVision/MV_CW1/practicalMixGaussC.ipynb#X25sZmlsZQ%3D%3D?line=5'>6</a>\u001b[0m mixGaussEst \u001b[39m=\u001b[39m fitMixGauss(data,nGaussEst)\n",
      "\u001b[1;32mc:\\Users\\yaozi\\Desktop\\MachineVision\\MV_CW1\\practicalMixGaussC.ipynb Cell 20\u001b[0m line \u001b[0;36m9\n\u001b[0;32m     <a href='vscode-notebook-cell:/c%3A/Users/yaozi/Desktop/MachineVision/MV_CW1/practicalMixGaussC.ipynb#X25sZmlsZQ%3D%3D?line=90'>91</a>\u001b[0m     mixGaussEst[\u001b[39m'\u001b[39m\u001b[39mcov\u001b[39m\u001b[39m'\u001b[39m][:,:,cGauss] \u001b[39m/\u001b[39m\u001b[39m=\u001b[39m np\u001b[39m.\u001b[39msum(postHidden[cGauss,:])\n\u001b[0;32m     <a href='vscode-notebook-cell:/c%3A/Users/yaozi/Desktop/MachineVision/MV_CW1/practicalMixGaussC.ipynb#X25sZmlsZQ%3D%3D?line=92'>93</a>\u001b[0m     \u001b[39m# draw the new solution\u001b[39;00m\n\u001b[1;32m---> <a href='vscode-notebook-cell:/c%3A/Users/yaozi/Desktop/MachineVision/MV_CW1/practicalMixGaussC.ipynb#X25sZmlsZQ%3D%3D?line=93'>94</a>\u001b[0m drawEMData2d(data, mixGaussEst)\n\u001b[0;32m     <a href='vscode-notebook-cell:/c%3A/Users/yaozi/Desktop/MachineVision/MV_CW1/practicalMixGaussC.ipynb#X25sZmlsZQ%3D%3D?line=94'>95</a>\u001b[0m time\u001b[39m.\u001b[39msleep(\u001b[39m0.7\u001b[39m)\n\u001b[0;32m     <a href='vscode-notebook-cell:/c%3A/Users/yaozi/Desktop/MachineVision/MV_CW1/practicalMixGaussC.ipynb#X25sZmlsZQ%3D%3D?line=95'>96</a>\u001b[0m fig\u001b[39m.\u001b[39mcanvas\u001b[39m.\u001b[39mdraw()\n",
      "\u001b[1;32mc:\\Users\\yaozi\\Desktop\\MachineVision\\MV_CW1\\practicalMixGaussC.ipynb Cell 20\u001b[0m line \u001b[0;36m1\n\u001b[0;32m      <a href='vscode-notebook-cell:/c%3A/Users/yaozi/Desktop/MachineVision/MV_CW1/practicalMixGaussC.ipynb#X25sZmlsZQ%3D%3D?line=1'>2</a>\u001b[0m \u001b[39m\u001b[39m\u001b[39m\"\"\"\u001b[39;00m\n\u001b[0;32m      <a href='vscode-notebook-cell:/c%3A/Users/yaozi/Desktop/MachineVision/MV_CW1/practicalMixGaussC.ipynb#X25sZmlsZQ%3D%3D?line=2'>3</a>\u001b[0m \u001b[39mPlot the data plot the mixtures of Gaussian model, mixGauss, on top of it.\u001b[39;00m\n\u001b[0;32m      <a href='vscode-notebook-cell:/c%3A/Users/yaozi/Desktop/MachineVision/MV_CW1/practicalMixGaussC.ipynb#X25sZmlsZQ%3D%3D?line=3'>4</a>\u001b[0m \u001b[39m\u001b[39;00m\n\u001b[1;32m   (...)\u001b[0m\n\u001b[0;32m      <a href='vscode-notebook-cell:/c%3A/Users/yaozi/Desktop/MachineVision/MV_CW1/practicalMixGaussC.ipynb#X25sZmlsZQ%3D%3D?line=7'>8</a>\u001b[0m \u001b[39m\u001b[39;00m\n\u001b[0;32m      <a href='vscode-notebook-cell:/c%3A/Users/yaozi/Desktop/MachineVision/MV_CW1/practicalMixGaussC.ipynb#X25sZmlsZQ%3D%3D?line=8'>9</a>\u001b[0m \u001b[39m\"\"\"\u001b[39;00m\n\u001b[0;32m     <a href='vscode-notebook-cell:/c%3A/Users/yaozi/Desktop/MachineVision/MV_CW1/practicalMixGaussC.ipynb#X25sZmlsZQ%3D%3D?line=9'>10</a>\u001b[0m \u001b[39m#set(gcf,'Color',[1 1 1])\u001b[39;00m\n\u001b[1;32m---> <a href='vscode-notebook-cell:/c%3A/Users/yaozi/Desktop/MachineVision/MV_CW1/practicalMixGaussC.ipynb#X25sZmlsZQ%3D%3D?line=10'>11</a>\u001b[0m plt\u001b[39m.\u001b[39;49mcla() \n\u001b[0;32m     <a href='vscode-notebook-cell:/c%3A/Users/yaozi/Desktop/MachineVision/MV_CW1/practicalMixGaussC.ipynb#X25sZmlsZQ%3D%3D?line=11'>12</a>\u001b[0m plt\u001b[39m.\u001b[39mplot(data[\u001b[39m0\u001b[39m,:],data[\u001b[39m1\u001b[39m,:],\u001b[39m'\u001b[39m\u001b[39mk.\u001b[39m\u001b[39m'\u001b[39m)\n\u001b[0;32m     <a href='vscode-notebook-cell:/c%3A/Users/yaozi/Desktop/MachineVision/MV_CW1/practicalMixGaussC.ipynb#X25sZmlsZQ%3D%3D?line=13'>14</a>\u001b[0m \u001b[39mfor\u001b[39;00m cGauss \u001b[39min\u001b[39;00m \u001b[39mrange\u001b[39m(mixGauss[\u001b[39m'\u001b[39m\u001b[39mk\u001b[39m\u001b[39m'\u001b[39m]):\n",
      "File \u001b[1;32me:\\Miniconda\\envs\\imageprocessing\\lib\\site-packages\\matplotlib\\pyplot.py:1149\u001b[0m, in \u001b[0;36mcla\u001b[1;34m()\u001b[0m\n\u001b[0;32m   1147\u001b[0m \u001b[39m\u001b[39m\u001b[39m\"\"\"Clear the current axes.\"\"\"\u001b[39;00m\n\u001b[0;32m   1148\u001b[0m \u001b[39m# Not generated via boilerplate.py to allow a different docstring.\u001b[39;00m\n\u001b[1;32m-> 1149\u001b[0m \u001b[39mreturn\u001b[39;00m gca()\u001b[39m.\u001b[39;49mcla()\n",
      "File \u001b[1;32me:\\Miniconda\\envs\\imageprocessing\\lib\\site-packages\\matplotlib\\axes\\_base.py:1404\u001b[0m, in \u001b[0;36m_AxesBase.cla\u001b[1;34m(self)\u001b[0m\n\u001b[0;32m   1402\u001b[0m     \u001b[39mself\u001b[39m\u001b[39m.\u001b[39m__clear()\n\u001b[0;32m   1403\u001b[0m \u001b[39melse\u001b[39;00m:\n\u001b[1;32m-> 1404\u001b[0m     \u001b[39mself\u001b[39;49m\u001b[39m.\u001b[39;49mclear()\n",
      "File \u001b[1;32me:\\Miniconda\\envs\\imageprocessing\\lib\\site-packages\\matplotlib\\axes\\_base.py:1395\u001b[0m, in \u001b[0;36m_AxesBase.clear\u001b[1;34m(self)\u001b[0m\n\u001b[0;32m   1393\u001b[0m     \u001b[39mself\u001b[39m\u001b[39m.\u001b[39mcla()\n\u001b[0;32m   1394\u001b[0m \u001b[39melse\u001b[39;00m:\n\u001b[1;32m-> 1395\u001b[0m     \u001b[39mself\u001b[39;49m\u001b[39m.\u001b[39;49m__clear()\n",
      "File \u001b[1;32me:\\Miniconda\\envs\\imageprocessing\\lib\\site-packages\\matplotlib\\axes\\_base.py:1281\u001b[0m, in \u001b[0;36m_AxesBase.__clear\u001b[1;34m(self)\u001b[0m\n\u001b[0;32m   1279\u001b[0m     axis\u001b[39m.\u001b[39mclear()  \u001b[39m# Also resets the scale to linear.\u001b[39;00m\n\u001b[0;32m   1280\u001b[0m \u001b[39mfor\u001b[39;00m spine \u001b[39min\u001b[39;00m \u001b[39mself\u001b[39m\u001b[39m.\u001b[39mspines\u001b[39m.\u001b[39mvalues():\n\u001b[1;32m-> 1281\u001b[0m     spine\u001b[39m.\u001b[39;49mclear()\n\u001b[0;32m   1283\u001b[0m \u001b[39mself\u001b[39m\u001b[39m.\u001b[39mignore_existing_data_limits \u001b[39m=\u001b[39m \u001b[39mTrue\u001b[39;00m\n\u001b[0;32m   1284\u001b[0m \u001b[39mself\u001b[39m\u001b[39m.\u001b[39mcallbacks \u001b[39m=\u001b[39m cbook\u001b[39m.\u001b[39mCallbackRegistry(\n\u001b[0;32m   1285\u001b[0m     signals\u001b[39m=\u001b[39m[\u001b[39m\"\u001b[39m\u001b[39mxlim_changed\u001b[39m\u001b[39m\"\u001b[39m, \u001b[39m\"\u001b[39m\u001b[39mylim_changed\u001b[39m\u001b[39m\"\u001b[39m, \u001b[39m\"\u001b[39m\u001b[39mzlim_changed\u001b[39m\u001b[39m\"\u001b[39m])\n",
      "File \u001b[1;32me:\\Miniconda\\envs\\imageprocessing\\lib\\site-packages\\matplotlib\\spines.py:225\u001b[0m, in \u001b[0;36mSpine.clear\u001b[1;34m(self)\u001b[0m\n\u001b[0;32m    223\u001b[0m \u001b[39mself\u001b[39m\u001b[39m.\u001b[39m_position \u001b[39m=\u001b[39m \u001b[39mNone\u001b[39;00m  \u001b[39m# clear position\u001b[39;00m\n\u001b[0;32m    224\u001b[0m \u001b[39mif\u001b[39;00m \u001b[39mself\u001b[39m\u001b[39m.\u001b[39maxis \u001b[39mis\u001b[39;00m \u001b[39mnot\u001b[39;00m \u001b[39mNone\u001b[39;00m:\n\u001b[1;32m--> 225\u001b[0m     \u001b[39mself\u001b[39;49m\u001b[39m.\u001b[39;49maxis\u001b[39m.\u001b[39;49mclear()\n",
      "File \u001b[1;32me:\\Miniconda\\envs\\imageprocessing\\lib\\site-packages\\matplotlib\\axis.py:891\u001b[0m, in \u001b[0;36mAxis.clear\u001b[1;34m(self)\u001b[0m\n\u001b[0;32m    885\u001b[0m \u001b[39mself\u001b[39m\u001b[39m.\u001b[39m_major_tick_kw[\u001b[39m'\u001b[39m\u001b[39mgridOn\u001b[39m\u001b[39m'\u001b[39m] \u001b[39m=\u001b[39m (\n\u001b[0;32m    886\u001b[0m         mpl\u001b[39m.\u001b[39mrcParams[\u001b[39m'\u001b[39m\u001b[39maxes.grid\u001b[39m\u001b[39m'\u001b[39m] \u001b[39mand\u001b[39;00m\n\u001b[0;32m    887\u001b[0m         mpl\u001b[39m.\u001b[39mrcParams[\u001b[39m'\u001b[39m\u001b[39maxes.grid.which\u001b[39m\u001b[39m'\u001b[39m] \u001b[39min\u001b[39;00m (\u001b[39m'\u001b[39m\u001b[39mboth\u001b[39m\u001b[39m'\u001b[39m, \u001b[39m'\u001b[39m\u001b[39mmajor\u001b[39m\u001b[39m'\u001b[39m))\n\u001b[0;32m    888\u001b[0m \u001b[39mself\u001b[39m\u001b[39m.\u001b[39m_minor_tick_kw[\u001b[39m'\u001b[39m\u001b[39mgridOn\u001b[39m\u001b[39m'\u001b[39m] \u001b[39m=\u001b[39m (\n\u001b[0;32m    889\u001b[0m         mpl\u001b[39m.\u001b[39mrcParams[\u001b[39m'\u001b[39m\u001b[39maxes.grid\u001b[39m\u001b[39m'\u001b[39m] \u001b[39mand\u001b[39;00m\n\u001b[0;32m    890\u001b[0m         mpl\u001b[39m.\u001b[39mrcParams[\u001b[39m'\u001b[39m\u001b[39maxes.grid.which\u001b[39m\u001b[39m'\u001b[39m] \u001b[39min\u001b[39;00m (\u001b[39m'\u001b[39m\u001b[39mboth\u001b[39m\u001b[39m'\u001b[39m, \u001b[39m'\u001b[39m\u001b[39mminor\u001b[39m\u001b[39m'\u001b[39m))\n\u001b[1;32m--> 891\u001b[0m \u001b[39mself\u001b[39;49m\u001b[39m.\u001b[39;49mreset_ticks()\n\u001b[0;32m    893\u001b[0m \u001b[39mself\u001b[39m\u001b[39m.\u001b[39mconverter \u001b[39m=\u001b[39m \u001b[39mNone\u001b[39;00m\n\u001b[0;32m    894\u001b[0m \u001b[39mself\u001b[39m\u001b[39m.\u001b[39munits \u001b[39m=\u001b[39m \u001b[39mNone\u001b[39;00m\n",
      "File \u001b[1;32me:\\Miniconda\\envs\\imageprocessing\\lib\\site-packages\\matplotlib\\axis.py:914\u001b[0m, in \u001b[0;36mAxis.reset_ticks\u001b[1;34m(self)\u001b[0m\n\u001b[0;32m    912\u001b[0m     \u001b[39mpass\u001b[39;00m\n\u001b[0;32m    913\u001b[0m \u001b[39mtry\u001b[39;00m:\n\u001b[1;32m--> 914\u001b[0m     \u001b[39mself\u001b[39;49m\u001b[39m.\u001b[39;49mset_clip_path(\u001b[39mself\u001b[39;49m\u001b[39m.\u001b[39;49maxes\u001b[39m.\u001b[39;49mpatch)\n\u001b[0;32m    915\u001b[0m \u001b[39mexcept\u001b[39;00m \u001b[39mAttributeError\u001b[39;00m:\n\u001b[0;32m    916\u001b[0m     \u001b[39mpass\u001b[39;00m\n",
      "File \u001b[1;32me:\\Miniconda\\envs\\imageprocessing\\lib\\site-packages\\matplotlib\\axis.py:1084\u001b[0m, in \u001b[0;36mAxis.set_clip_path\u001b[1;34m(self, clippath, transform)\u001b[0m\n\u001b[0;32m   1082\u001b[0m \u001b[39mdef\u001b[39;00m \u001b[39mset_clip_path\u001b[39m(\u001b[39mself\u001b[39m, clippath, transform\u001b[39m=\u001b[39m\u001b[39mNone\u001b[39;00m):\n\u001b[0;32m   1083\u001b[0m     \u001b[39msuper\u001b[39m()\u001b[39m.\u001b[39mset_clip_path(clippath, transform)\n\u001b[1;32m-> 1084\u001b[0m     \u001b[39mfor\u001b[39;00m child \u001b[39min\u001b[39;00m \u001b[39mself\u001b[39;49m\u001b[39m.\u001b[39;49mmajorTicks \u001b[39m+\u001b[39m \u001b[39mself\u001b[39m\u001b[39m.\u001b[39mminorTicks:\n\u001b[0;32m   1085\u001b[0m         child\u001b[39m.\u001b[39mset_clip_path(clippath, transform)\n\u001b[0;32m   1086\u001b[0m     \u001b[39mself\u001b[39m\u001b[39m.\u001b[39mstale \u001b[39m=\u001b[39m \u001b[39mTrue\u001b[39;00m\n",
      "File \u001b[1;32me:\\Miniconda\\envs\\imageprocessing\\lib\\site-packages\\matplotlib\\axis.py:594\u001b[0m, in \u001b[0;36m_LazyTickList.__get__\u001b[1;34m(self, instance, cls)\u001b[0m\n\u001b[0;32m    592\u001b[0m \u001b[39mif\u001b[39;00m \u001b[39mself\u001b[39m\u001b[39m.\u001b[39m_major:\n\u001b[0;32m    593\u001b[0m     instance\u001b[39m.\u001b[39mmajorTicks \u001b[39m=\u001b[39m []\n\u001b[1;32m--> 594\u001b[0m     tick \u001b[39m=\u001b[39m instance\u001b[39m.\u001b[39;49m_get_tick(major\u001b[39m=\u001b[39;49m\u001b[39mTrue\u001b[39;49;00m)\n\u001b[0;32m    595\u001b[0m     instance\u001b[39m.\u001b[39mmajorTicks\u001b[39m.\u001b[39mappend(tick)\n\u001b[0;32m    596\u001b[0m     \u001b[39mreturn\u001b[39;00m instance\u001b[39m.\u001b[39mmajorTicks\n",
      "File \u001b[1;32me:\\Miniconda\\envs\\imageprocessing\\lib\\site-packages\\matplotlib\\axis.py:1551\u001b[0m, in \u001b[0;36mAxis._get_tick\u001b[1;34m(self, major)\u001b[0m\n\u001b[0;32m   1547\u001b[0m     \u001b[39mraise\u001b[39;00m \u001b[39mNotImplementedError\u001b[39;00m(\n\u001b[0;32m   1548\u001b[0m         \u001b[39mf\u001b[39m\u001b[39m\"\u001b[39m\u001b[39mThe Axis subclass \u001b[39m\u001b[39m{\u001b[39;00m\u001b[39mself\u001b[39m\u001b[39m.\u001b[39m\u001b[39m__class__\u001b[39m\u001b[39m.\u001b[39m\u001b[39m__name__\u001b[39m\u001b[39m}\u001b[39;00m\u001b[39m must define \u001b[39m\u001b[39m\"\u001b[39m\n\u001b[0;32m   1549\u001b[0m         \u001b[39m\"\u001b[39m\u001b[39m_tick_class or reimplement _get_tick()\u001b[39m\u001b[39m\"\u001b[39m)\n\u001b[0;32m   1550\u001b[0m tick_kw \u001b[39m=\u001b[39m \u001b[39mself\u001b[39m\u001b[39m.\u001b[39m_major_tick_kw \u001b[39mif\u001b[39;00m major \u001b[39melse\u001b[39;00m \u001b[39mself\u001b[39m\u001b[39m.\u001b[39m_minor_tick_kw\n\u001b[1;32m-> 1551\u001b[0m \u001b[39mreturn\u001b[39;00m \u001b[39mself\u001b[39m\u001b[39m.\u001b[39m_tick_class(\u001b[39mself\u001b[39m\u001b[39m.\u001b[39maxes, \u001b[39m0\u001b[39m, major\u001b[39m=\u001b[39mmajor, \u001b[39m*\u001b[39m\u001b[39m*\u001b[39mtick_kw)\n",
      "File \u001b[1;32me:\\Miniconda\\envs\\imageprocessing\\lib\\site-packages\\matplotlib\\axis.py:421\u001b[0m, in \u001b[0;36mXTick.__init__\u001b[1;34m(self, *args, **kwargs)\u001b[0m\n\u001b[0;32m    418\u001b[0m \u001b[39m# x in data coords, y in axes coords\u001b[39;00m\n\u001b[0;32m    419\u001b[0m ax \u001b[39m=\u001b[39m \u001b[39mself\u001b[39m\u001b[39m.\u001b[39maxes\n\u001b[0;32m    420\u001b[0m \u001b[39mself\u001b[39m\u001b[39m.\u001b[39mtick1line\u001b[39m.\u001b[39mset(\n\u001b[1;32m--> 421\u001b[0m     data\u001b[39m=\u001b[39m([\u001b[39m0\u001b[39m], [\u001b[39m0\u001b[39m]), transform\u001b[39m=\u001b[39max\u001b[39m.\u001b[39;49mget_xaxis_transform(\u001b[39m\"\u001b[39;49m\u001b[39mtick1\u001b[39;49m\u001b[39m\"\u001b[39;49m))\n\u001b[0;32m    422\u001b[0m \u001b[39mself\u001b[39m\u001b[39m.\u001b[39mtick2line\u001b[39m.\u001b[39mset(\n\u001b[0;32m    423\u001b[0m     data\u001b[39m=\u001b[39m([\u001b[39m0\u001b[39m], [\u001b[39m1\u001b[39m]), transform\u001b[39m=\u001b[39max\u001b[39m.\u001b[39mget_xaxis_transform(\u001b[39m\"\u001b[39m\u001b[39mtick2\u001b[39m\u001b[39m\"\u001b[39m))\n\u001b[0;32m    424\u001b[0m \u001b[39mself\u001b[39m\u001b[39m.\u001b[39mgridline\u001b[39m.\u001b[39mset(\n\u001b[0;32m    425\u001b[0m     data\u001b[39m=\u001b[39m([\u001b[39m0\u001b[39m, \u001b[39m0\u001b[39m], [\u001b[39m0\u001b[39m, \u001b[39m1\u001b[39m]), transform\u001b[39m=\u001b[39max\u001b[39m.\u001b[39mget_xaxis_transform(\u001b[39m\"\u001b[39m\u001b[39mgrid\u001b[39m\u001b[39m\"\u001b[39m))\n",
      "File \u001b[1;32me:\\Miniconda\\envs\\imageprocessing\\lib\\site-packages\\matplotlib\\axes\\_base.py:938\u001b[0m, in \u001b[0;36m_AxesBase.get_xaxis_transform\u001b[1;34m(self, which)\u001b[0m\n\u001b[0;32m    935\u001b[0m     \u001b[39mreturn\u001b[39;00m \u001b[39mself\u001b[39m\u001b[39m.\u001b[39m_xaxis_transform\n\u001b[0;32m    936\u001b[0m \u001b[39melif\u001b[39;00m which \u001b[39m==\u001b[39m \u001b[39m'\u001b[39m\u001b[39mtick1\u001b[39m\u001b[39m'\u001b[39m:\n\u001b[0;32m    937\u001b[0m     \u001b[39m# for cartesian projection, this is bottom spine\u001b[39;00m\n\u001b[1;32m--> 938\u001b[0m     \u001b[39mreturn\u001b[39;00m \u001b[39mself\u001b[39;49m\u001b[39m.\u001b[39;49mspines\u001b[39m.\u001b[39;49mbottom\u001b[39m.\u001b[39;49mget_spine_transform()\n\u001b[0;32m    939\u001b[0m \u001b[39melif\u001b[39;00m which \u001b[39m==\u001b[39m \u001b[39m'\u001b[39m\u001b[39mtick2\u001b[39m\u001b[39m'\u001b[39m:\n\u001b[0;32m    940\u001b[0m     \u001b[39m# for cartesian projection, this is top spine\u001b[39;00m\n\u001b[0;32m    941\u001b[0m     \u001b[39mreturn\u001b[39;00m \u001b[39mself\u001b[39m\u001b[39m.\u001b[39mspines\u001b[39m.\u001b[39mtop\u001b[39m.\u001b[39mget_spine_transform()\n",
      "File \u001b[1;32me:\\Miniconda\\envs\\imageprocessing\\lib\\site-packages\\matplotlib\\spines.py:334\u001b[0m, in \u001b[0;36mSpine.get_spine_transform\u001b[1;34m(self)\u001b[0m\n\u001b[0;32m    332\u001b[0m \u001b[39mdef\u001b[39;00m \u001b[39mget_spine_transform\u001b[39m(\u001b[39mself\u001b[39m):\n\u001b[0;32m    333\u001b[0m \u001b[39m    \u001b[39m\u001b[39m\"\"\"Return the spine transform.\"\"\"\u001b[39;00m\n\u001b[1;32m--> 334\u001b[0m     \u001b[39mself\u001b[39;49m\u001b[39m.\u001b[39;49m_ensure_position_is_set()\n\u001b[0;32m    336\u001b[0m     position \u001b[39m=\u001b[39m \u001b[39mself\u001b[39m\u001b[39m.\u001b[39m_position\n\u001b[0;32m    337\u001b[0m     \u001b[39mif\u001b[39;00m \u001b[39misinstance\u001b[39m(position, \u001b[39mstr\u001b[39m):\n",
      "File \u001b[1;32me:\\Miniconda\\envs\\imageprocessing\\lib\\site-packages\\matplotlib\\spines.py:206\u001b[0m, in \u001b[0;36mSpine._ensure_position_is_set\u001b[1;34m(self)\u001b[0m\n\u001b[0;32m    203\u001b[0m \u001b[39mif\u001b[39;00m \u001b[39mself\u001b[39m\u001b[39m.\u001b[39m_position \u001b[39mis\u001b[39;00m \u001b[39mNone\u001b[39;00m:\n\u001b[0;32m    204\u001b[0m     \u001b[39m# default position\u001b[39;00m\n\u001b[0;32m    205\u001b[0m     \u001b[39mself\u001b[39m\u001b[39m.\u001b[39m_position \u001b[39m=\u001b[39m (\u001b[39m'\u001b[39m\u001b[39moutward\u001b[39m\u001b[39m'\u001b[39m, \u001b[39m0.0\u001b[39m)  \u001b[39m# in points\u001b[39;00m\n\u001b[1;32m--> 206\u001b[0m     \u001b[39mself\u001b[39;49m\u001b[39m.\u001b[39;49mset_position(\u001b[39mself\u001b[39;49m\u001b[39m.\u001b[39;49m_position)\n",
      "File \u001b[1;32me:\\Miniconda\\envs\\imageprocessing\\lib\\site-packages\\matplotlib\\spines.py:324\u001b[0m, in \u001b[0;36mSpine.set_position\u001b[1;34m(self, position)\u001b[0m\n\u001b[0;32m    322\u001b[0m \u001b[39mself\u001b[39m\u001b[39m.\u001b[39mset_transform(\u001b[39mself\u001b[39m\u001b[39m.\u001b[39mget_spine_transform())\n\u001b[0;32m    323\u001b[0m \u001b[39mif\u001b[39;00m \u001b[39mself\u001b[39m\u001b[39m.\u001b[39maxis \u001b[39mis\u001b[39;00m \u001b[39mnot\u001b[39;00m \u001b[39mNone\u001b[39;00m:\n\u001b[1;32m--> 324\u001b[0m     \u001b[39mself\u001b[39;49m\u001b[39m.\u001b[39;49maxis\u001b[39m.\u001b[39;49mreset_ticks()\n\u001b[0;32m    325\u001b[0m \u001b[39mself\u001b[39m\u001b[39m.\u001b[39mstale \u001b[39m=\u001b[39m \u001b[39mTrue\u001b[39;00m\n",
      "File \u001b[1;32me:\\Miniconda\\envs\\imageprocessing\\lib\\site-packages\\matplotlib\\axis.py:914\u001b[0m, in \u001b[0;36mAxis.reset_ticks\u001b[1;34m(self)\u001b[0m\n\u001b[0;32m    912\u001b[0m     \u001b[39mpass\u001b[39;00m\n\u001b[0;32m    913\u001b[0m \u001b[39mtry\u001b[39;00m:\n\u001b[1;32m--> 914\u001b[0m     \u001b[39mself\u001b[39;49m\u001b[39m.\u001b[39;49mset_clip_path(\u001b[39mself\u001b[39;49m\u001b[39m.\u001b[39;49maxes\u001b[39m.\u001b[39;49mpatch)\n\u001b[0;32m    915\u001b[0m \u001b[39mexcept\u001b[39;00m \u001b[39mAttributeError\u001b[39;00m:\n\u001b[0;32m    916\u001b[0m     \u001b[39mpass\u001b[39;00m\n",
      "File \u001b[1;32me:\\Miniconda\\envs\\imageprocessing\\lib\\site-packages\\matplotlib\\axis.py:1085\u001b[0m, in \u001b[0;36mAxis.set_clip_path\u001b[1;34m(self, clippath, transform)\u001b[0m\n\u001b[0;32m   1083\u001b[0m \u001b[39msuper\u001b[39m()\u001b[39m.\u001b[39mset_clip_path(clippath, transform)\n\u001b[0;32m   1084\u001b[0m \u001b[39mfor\u001b[39;00m child \u001b[39min\u001b[39;00m \u001b[39mself\u001b[39m\u001b[39m.\u001b[39mmajorTicks \u001b[39m+\u001b[39m \u001b[39mself\u001b[39m\u001b[39m.\u001b[39mminorTicks:\n\u001b[1;32m-> 1085\u001b[0m     child\u001b[39m.\u001b[39;49mset_clip_path(clippath, transform)\n\u001b[0;32m   1086\u001b[0m \u001b[39mself\u001b[39m\u001b[39m.\u001b[39mstale \u001b[39m=\u001b[39m \u001b[39mTrue\u001b[39;00m\n",
      "File \u001b[1;32me:\\Miniconda\\envs\\imageprocessing\\lib\\site-packages\\matplotlib\\axis.py:240\u001b[0m, in \u001b[0;36mTick.set_clip_path\u001b[1;34m(self, clippath, transform)\u001b[0m\n\u001b[0;32m    237\u001b[0m \u001b[39mdef\u001b[39;00m \u001b[39mset_clip_path\u001b[39m(\u001b[39mself\u001b[39m, clippath, transform\u001b[39m=\u001b[39m\u001b[39mNone\u001b[39;00m):\n\u001b[0;32m    238\u001b[0m     \u001b[39m# docstring inherited\u001b[39;00m\n\u001b[0;32m    239\u001b[0m     \u001b[39msuper\u001b[39m()\u001b[39m.\u001b[39mset_clip_path(clippath, transform)\n\u001b[1;32m--> 240\u001b[0m     \u001b[39mself\u001b[39;49m\u001b[39m.\u001b[39;49mgridline\u001b[39m.\u001b[39;49mset_clip_path(clippath, transform)\n\u001b[0;32m    241\u001b[0m     \u001b[39mself\u001b[39m\u001b[39m.\u001b[39mstale \u001b[39m=\u001b[39m \u001b[39mTrue\u001b[39;00m\n",
      "File \u001b[1;32me:\\Miniconda\\envs\\imageprocessing\\lib\\site-packages\\matplotlib\\artist.py:808\u001b[0m, in \u001b[0;36mArtist.set_clip_path\u001b[1;34m(self, path, transform)\u001b[0m\n\u001b[0;32m    806\u001b[0m \u001b[39mif\u001b[39;00m transform \u001b[39mis\u001b[39;00m \u001b[39mNone\u001b[39;00m:\n\u001b[0;32m    807\u001b[0m     \u001b[39mif\u001b[39;00m \u001b[39misinstance\u001b[39m(path, Rectangle):\n\u001b[1;32m--> 808\u001b[0m         \u001b[39mself\u001b[39m\u001b[39m.\u001b[39mclipbox \u001b[39m=\u001b[39m TransformedBbox(Bbox\u001b[39m.\u001b[39;49munit(),\n\u001b[0;32m    809\u001b[0m                                        path\u001b[39m.\u001b[39mget_transform())\n\u001b[0;32m    810\u001b[0m         \u001b[39mself\u001b[39m\u001b[39m.\u001b[39m_clippath \u001b[39m=\u001b[39m \u001b[39mNone\u001b[39;00m\n\u001b[0;32m    811\u001b[0m         success \u001b[39m=\u001b[39m \u001b[39mTrue\u001b[39;00m\n",
      "File \u001b[1;32me:\\Miniconda\\envs\\imageprocessing\\lib\\site-packages\\matplotlib\\transforms.py:793\u001b[0m, in \u001b[0;36mBbox.unit\u001b[1;34m()\u001b[0m\n\u001b[0;32m    790\u001b[0m \u001b[39m@staticmethod\u001b[39m\n\u001b[0;32m    791\u001b[0m \u001b[39mdef\u001b[39;00m \u001b[39munit\u001b[39m():\n\u001b[0;32m    792\u001b[0m \u001b[39m    \u001b[39m\u001b[39m\"\"\"Create a new unit `Bbox` from (0, 0) to (1, 1).\"\"\"\u001b[39;00m\n\u001b[1;32m--> 793\u001b[0m     \u001b[39mreturn\u001b[39;00m Bbox([[\u001b[39m0\u001b[39;49m, \u001b[39m0\u001b[39;49m], [\u001b[39m1\u001b[39;49m, \u001b[39m1\u001b[39;49m]])\n",
      "File \u001b[1;32me:\\Miniconda\\envs\\imageprocessing\\lib\\site-packages\\matplotlib\\transforms.py:772\u001b[0m, in \u001b[0;36mBbox.__init__\u001b[1;34m(self, points, **kwargs)\u001b[0m\n\u001b[0;32m    768\u001b[0m \u001b[39mself\u001b[39m\u001b[39m.\u001b[39m_ignore \u001b[39m=\u001b[39m \u001b[39mTrue\u001b[39;00m\n\u001b[0;32m    769\u001b[0m \u001b[39m# it is helpful in some contexts to know if the bbox is a\u001b[39;00m\n\u001b[0;32m    770\u001b[0m \u001b[39m# default or has been mutated; we store the orig points to\u001b[39;00m\n\u001b[0;32m    771\u001b[0m \u001b[39m# support the mutated methods\u001b[39;00m\n\u001b[1;32m--> 772\u001b[0m \u001b[39mself\u001b[39m\u001b[39m.\u001b[39m_points_orig \u001b[39m=\u001b[39m \u001b[39mself\u001b[39;49m\u001b[39m.\u001b[39;49m_points\u001b[39m.\u001b[39;49mcopy()\n",
      "\u001b[1;31mKeyboardInterrupt\u001b[0m: "
     ]
    },
    {
     "data": {
      "image/png": "[encoded data removed]",
      "text/plain": [
       "<Figure size 640x480 with 1 Axes>"
      ]
     },
     "metadata": {},
     "output_type": "display_data"
    }
   ],
   "source": [
    "#define number of components to estimate\n",
    "nGaussEst = 3\n",
    "\n",
    "#fit mixture of Gaussians (Pretend someone handed you some data. Now what?)\n",
    "#TO DO fill in this routine (below)\n",
    "mixGaussEst = fitMixGauss(data,nGaussEst);"
   ]
  },
  {
   "cell_type": "markdown",
   "metadata": {},
   "source": [
    "> ### [My Explanation]\n",
    "> The scatter plot shows the mocked data (black points) and the 2-dimensional Gaussian mixture model (red circles) with parameters estimated by E-M algorithm after 30 iterations based on the mocked data. Comparing it with the ground truth, the result is ideal, and this estimated Gaussian mixture model has fit the distribution of these given points very well."
   ]
  }
 ],
 "metadata": {
  "kernelspec": {
   "display_name": "Python 3 (ipykernel)",
   "language": "python",
   "name": "python3"
  },
  "language_info": {
   "codemirror_mode": {
    "name": "ipython",
    "version": 3
   },
   "file_extension": ".py",
   "mimetype": "text/x-python",
   "name": "python",
   "nbconvert_exporter": "python",
   "pygments_lexer": "ipython3",
   "version": "3.9.18"
  }
 },
 "nbformat": 4,
 "nbformat_minor": 2
}
